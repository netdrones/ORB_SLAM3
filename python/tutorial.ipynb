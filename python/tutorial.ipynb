{
 "cells": [
  {
   "cell_type": "markdown",
   "metadata": {},
   "source": [
    "# ORB-SLAM3 VSLAM Tutorial\n",
    "\n",
    "This tutorial goes through examples of ORB-SLAM3 Python binding."
   ]
  },
  {
   "cell_type": "code",
   "execution_count": null,
   "metadata": {
    "tags": []
   },
   "outputs": [],
   "source": [
    "# Install dependencies\n",
    "%pip install opencv-python matplotlib jupyter_bokeh ipywidgets tqdm scipy torchdata"
   ]
  },
  {
   "cell_type": "code",
   "execution_count": 1,
   "metadata": {
    "tags": []
   },
   "outputs": [],
   "source": [
    "import cv2\n",
    "import os\n",
    "import re\n",
    "import sys\n",
    "import math\n",
    "import numpy as np\n",
    "import matplotlib\n",
    "import matplotlib.pyplot as plt\n",
    "import matplotlib.animation as animation\n",
    "from pathlib import Path\n",
    "from tqdm.notebook import tqdm\n",
    "from IPython.display import HTML\n",
    "from typing import Iterator, Tuple, Optional\n",
    "from scipy.spatial.transform import Rotation\n",
    "\n",
    "sys.path.append(os.path.join(os.getcwd(), \"..\", \"lib\"))\n",
    "import orb_slam3\n",
    "\n",
    "matplotlib.rcParams['animation.embed_limit'] = 40 # MB"
   ]
  },
  {
   "cell_type": "markdown",
   "metadata": {},
   "source": [
    "This tutorial uses [Bokeh](https://bokeh.org/) that visualizes interactive graphs. First, initialize bokeh and then define a helper function that displays an embeded video in the notebook."
   ]
  },
  {
   "cell_type": "code",
   "execution_count": 2,
   "metadata": {
    "tags": []
   },
   "outputs": [
    {
     "data": {
      "text/html": [
       "<style>\n",
       "        .bk-notebook-logo {\n",
       "            display: block;\n",
       "            width: 20px;\n",
       "            height: 20px;\n",
       "            background-image: url(data:image/png;base64,iVBORw0KGgoAAAANSUhEUgAAABQAAAAUCAYAAACNiR0NAAAABHNCSVQICAgIfAhkiAAAAAlwSFlzAAALEgAACxIB0t1+/AAAABx0RVh0U29mdHdhcmUAQWRvYmUgRmlyZXdvcmtzIENTNui8sowAAAOkSURBVDiNjZRtaJVlGMd/1/08zzln5zjP1LWcU9N0NkN8m2CYjpgQYQXqSs0I84OLIC0hkEKoPtiH3gmKoiJDU7QpLgoLjLIQCpEsNJ1vqUOdO7ppbuec5+V+rj4ctwzd8IIbbi6u+8f1539dt3A78eXC7QizUF7gyV1fD1Yqg4JWz84yffhm0qkFqBogB9rM8tZdtwVsPUhWhGcFJngGeWrPzHm5oaMmkfEg1usvLFyc8jLRqDOMru7AyC8saQr7GG7f5fvDeH7Ej8CM66nIF+8yngt6HWaKh7k49Soy9nXurCi1o3qUbS3zWfrYeQDTB/Qj6kX6Ybhw4B+bOYoLKCC9H3Nu/leUTZ1JdRWkkn2ldcCamzrcf47KKXdAJllSlxAOkRgyHsGC/zRday5Qld9DyoM4/q/rUoy/CXh3jzOu3bHUVZeU+DEn8FInkPBFlu3+nW3Nw0mk6vCDiWg8CeJaxEwuHS3+z5RgY+YBR6V1Z1nxSOfoaPa4LASWxxdNp+VWTk7+4vzaou8v8PN+xo+KY2xsw6une2frhw05CTYOmQvsEhjhWjn0bmXPjpE1+kplmmkP3suftwTubK9Vq22qKmrBhpY4jvd5afdRA3wGjFAgcnTK2s4hY0/GPNIb0nErGMCRxWOOX64Z8RAC4oCXdklmEvcL8o0BfkNK4lUg9HTl+oPlQxdNo3Mg4Nv175e/1LDGzZen30MEjRUtmXSfiTVu1kK8W4txyV6BMKlbgk3lMwYCiusNy9fVfvvwMxv8Ynl6vxoByANLTWplvuj/nF9m2+PDtt1eiHPBr1oIfhCChQMBw6Aw0UulqTKZdfVvfG7VcfIqLG9bcldL/+pdWTLxLUy8Qq38heUIjh4XlzZxzQm19lLFlr8vdQ97rjZVOLf8nclzckbcD4wxXMidpX30sFd37Fv/GtwwhzhxGVAprjbg0gCAEeIgwCZyTV2Z1REEW8O4py0wsjeloKoMr6iCY6dP92H6Vw/oTyICIthibxjm/DfN9lVz8IqtqKYLUXfoKVMVQVVJOElGjrnnUt9T9wbgp8AyYKaGlqingHZU/uG2NTZSVqwHQTWkx9hxjkpWDaCg6Ckj5qebgBVbT3V3NNXMSiWSDdGV3hrtzla7J+duwPOToIg42ChPQOQjspnSlp1V+Gjdged7+8UN5CRAV7a5EdFNwCjEaBR27b3W890TE7g24NAP/mMDXRWrGoFPQI9ls/MWO2dWFAar/xcOIImbbpA3zgAAAABJRU5ErkJggg==);\n",
       "        }\n",
       "    </style>\n",
       "    <div>\n",
       "        <a href=\"https://bokeh.org\" target=\"_blank\" class=\"bk-notebook-logo\"></a>\n",
       "        <span id=\"p1001\">Loading BokehJS ...</span>\n",
       "    </div>\n"
      ]
     },
     "metadata": {},
     "output_type": "display_data"
    },
    {
     "data": {
      "application/javascript": [
       "(function(root) {\n",
       "  function now() {\n",
       "    return new Date();\n",
       "  }\n",
       "\n",
       "  const force = true;\n",
       "\n",
       "  if (typeof root._bokeh_onload_callbacks === \"undefined\" || force === true) {\n",
       "    root._bokeh_onload_callbacks = [];\n",
       "    root._bokeh_is_loading = undefined;\n",
       "  }\n",
       "\n",
       "const JS_MIME_TYPE = 'application/javascript';\n",
       "  const HTML_MIME_TYPE = 'text/html';\n",
       "  const EXEC_MIME_TYPE = 'application/vnd.bokehjs_exec.v0+json';\n",
       "  const CLASS_NAME = 'output_bokeh rendered_html';\n",
       "\n",
       "  /**\n",
       "   * Render data to the DOM node\n",
       "   */\n",
       "  function render(props, node) {\n",
       "    const script = document.createElement(\"script\");\n",
       "    node.appendChild(script);\n",
       "  }\n",
       "\n",
       "  /**\n",
       "   * Handle when an output is cleared or removed\n",
       "   */\n",
       "  function handleClearOutput(event, handle) {\n",
       "    const cell = handle.cell;\n",
       "\n",
       "    const id = cell.output_area._bokeh_element_id;\n",
       "    const server_id = cell.output_area._bokeh_server_id;\n",
       "    // Clean up Bokeh references\n",
       "    if (id != null && id in Bokeh.index) {\n",
       "      Bokeh.index[id].model.document.clear();\n",
       "      delete Bokeh.index[id];\n",
       "    }\n",
       "\n",
       "    if (server_id !== undefined) {\n",
       "      // Clean up Bokeh references\n",
       "      const cmd_clean = \"from bokeh.io.state import curstate; print(curstate().uuid_to_server['\" + server_id + \"'].get_sessions()[0].document.roots[0]._id)\";\n",
       "      cell.notebook.kernel.execute(cmd_clean, {\n",
       "        iopub: {\n",
       "          output: function(msg) {\n",
       "            const id = msg.content.text.trim();\n",
       "            if (id in Bokeh.index) {\n",
       "              Bokeh.index[id].model.document.clear();\n",
       "              delete Bokeh.index[id];\n",
       "            }\n",
       "          }\n",
       "        }\n",
       "      });\n",
       "      // Destroy server and session\n",
       "      const cmd_destroy = \"import bokeh.io.notebook as ion; ion.destroy_server('\" + server_id + \"')\";\n",
       "      cell.notebook.kernel.execute(cmd_destroy);\n",
       "    }\n",
       "  }\n",
       "\n",
       "  /**\n",
       "   * Handle when a new output is added\n",
       "   */\n",
       "  function handleAddOutput(event, handle) {\n",
       "    const output_area = handle.output_area;\n",
       "    const output = handle.output;\n",
       "\n",
       "    // limit handleAddOutput to display_data with EXEC_MIME_TYPE content only\n",
       "    if ((output.output_type != \"display_data\") || (!Object.prototype.hasOwnProperty.call(output.data, EXEC_MIME_TYPE))) {\n",
       "      return\n",
       "    }\n",
       "\n",
       "    const toinsert = output_area.element.find(\".\" + CLASS_NAME.split(' ')[0]);\n",
       "\n",
       "    if (output.metadata[EXEC_MIME_TYPE][\"id\"] !== undefined) {\n",
       "      toinsert[toinsert.length - 1].firstChild.textContent = output.data[JS_MIME_TYPE];\n",
       "      // store reference to embed id on output_area\n",
       "      output_area._bokeh_element_id = output.metadata[EXEC_MIME_TYPE][\"id\"];\n",
       "    }\n",
       "    if (output.metadata[EXEC_MIME_TYPE][\"server_id\"] !== undefined) {\n",
       "      const bk_div = document.createElement(\"div\");\n",
       "      bk_div.innerHTML = output.data[HTML_MIME_TYPE];\n",
       "      const script_attrs = bk_div.children[0].attributes;\n",
       "      for (let i = 0; i < script_attrs.length; i++) {\n",
       "        toinsert[toinsert.length - 1].firstChild.setAttribute(script_attrs[i].name, script_attrs[i].value);\n",
       "        toinsert[toinsert.length - 1].firstChild.textContent = bk_div.children[0].textContent\n",
       "      }\n",
       "      // store reference to server id on output_area\n",
       "      output_area._bokeh_server_id = output.metadata[EXEC_MIME_TYPE][\"server_id\"];\n",
       "    }\n",
       "  }\n",
       "\n",
       "  function register_renderer(events, OutputArea) {\n",
       "\n",
       "    function append_mime(data, metadata, element) {\n",
       "      // create a DOM node to render to\n",
       "      const toinsert = this.create_output_subarea(\n",
       "        metadata,\n",
       "        CLASS_NAME,\n",
       "        EXEC_MIME_TYPE\n",
       "      );\n",
       "      this.keyboard_manager.register_events(toinsert);\n",
       "      // Render to node\n",
       "      const props = {data: data, metadata: metadata[EXEC_MIME_TYPE]};\n",
       "      render(props, toinsert[toinsert.length - 1]);\n",
       "      element.append(toinsert);\n",
       "      return toinsert\n",
       "    }\n",
       "\n",
       "    /* Handle when an output is cleared or removed */\n",
       "    events.on('clear_output.CodeCell', handleClearOutput);\n",
       "    events.on('delete.Cell', handleClearOutput);\n",
       "\n",
       "    /* Handle when a new output is added */\n",
       "    events.on('output_added.OutputArea', handleAddOutput);\n",
       "\n",
       "    /**\n",
       "     * Register the mime type and append_mime function with output_area\n",
       "     */\n",
       "    OutputArea.prototype.register_mime_type(EXEC_MIME_TYPE, append_mime, {\n",
       "      /* Is output safe? */\n",
       "      safe: true,\n",
       "      /* Index of renderer in `output_area.display_order` */\n",
       "      index: 0\n",
       "    });\n",
       "  }\n",
       "\n",
       "  // register the mime type if in Jupyter Notebook environment and previously unregistered\n",
       "  if (root.Jupyter !== undefined) {\n",
       "    const events = require('base/js/events');\n",
       "    const OutputArea = require('notebook/js/outputarea').OutputArea;\n",
       "\n",
       "    if (OutputArea.prototype.mime_types().indexOf(EXEC_MIME_TYPE) == -1) {\n",
       "      register_renderer(events, OutputArea);\n",
       "    }\n",
       "  }\n",
       "  if (typeof (root._bokeh_timeout) === \"undefined\" || force === true) {\n",
       "    root._bokeh_timeout = Date.now() + 5000;\n",
       "    root._bokeh_failed_load = false;\n",
       "  }\n",
       "\n",
       "  const NB_LOAD_WARNING = {'data': {'text/html':\n",
       "     \"<div style='background-color: #fdd'>\\n\"+\n",
       "     \"<p>\\n\"+\n",
       "     \"BokehJS does not appear to have successfully loaded. If loading BokehJS from CDN, this \\n\"+\n",
       "     \"may be due to a slow or bad network connection. Possible fixes:\\n\"+\n",
       "     \"</p>\\n\"+\n",
       "     \"<ul>\\n\"+\n",
       "     \"<li>re-rerun `output_notebook()` to attempt to load from CDN again, or</li>\\n\"+\n",
       "     \"<li>use INLINE resources instead, as so:</li>\\n\"+\n",
       "     \"</ul>\\n\"+\n",
       "     \"<code>\\n\"+\n",
       "     \"from bokeh.resources import INLINE\\n\"+\n",
       "     \"output_notebook(resources=INLINE)\\n\"+\n",
       "     \"</code>\\n\"+\n",
       "     \"</div>\"}};\n",
       "\n",
       "  function display_loaded() {\n",
       "    const el = document.getElementById(\"p1001\");\n",
       "    if (el != null) {\n",
       "      el.textContent = \"BokehJS is loading...\";\n",
       "    }\n",
       "    if (root.Bokeh !== undefined) {\n",
       "      if (el != null) {\n",
       "        el.textContent = \"BokehJS \" + root.Bokeh.version + \" successfully loaded.\";\n",
       "      }\n",
       "    } else if (Date.now() < root._bokeh_timeout) {\n",
       "      setTimeout(display_loaded, 100)\n",
       "    }\n",
       "  }\n",
       "\n",
       "  function run_callbacks() {\n",
       "    try {\n",
       "      root._bokeh_onload_callbacks.forEach(function(callback) {\n",
       "        if (callback != null)\n",
       "          callback();\n",
       "      });\n",
       "    } finally {\n",
       "      delete root._bokeh_onload_callbacks\n",
       "    }\n",
       "    console.debug(\"Bokeh: all callbacks have finished\");\n",
       "  }\n",
       "\n",
       "  function load_libs(css_urls, js_urls, callback) {\n",
       "    if (css_urls == null) css_urls = [];\n",
       "    if (js_urls == null) js_urls = [];\n",
       "\n",
       "    root._bokeh_onload_callbacks.push(callback);\n",
       "    if (root._bokeh_is_loading > 0) {\n",
       "      console.debug(\"Bokeh: BokehJS is being loaded, scheduling callback at\", now());\n",
       "      return null;\n",
       "    }\n",
       "    if (js_urls == null || js_urls.length === 0) {\n",
       "      run_callbacks();\n",
       "      return null;\n",
       "    }\n",
       "    console.debug(\"Bokeh: BokehJS not loaded, scheduling load and callback at\", now());\n",
       "    root._bokeh_is_loading = css_urls.length + js_urls.length;\n",
       "\n",
       "    function on_load() {\n",
       "      root._bokeh_is_loading--;\n",
       "      if (root._bokeh_is_loading === 0) {\n",
       "        console.debug(\"Bokeh: all BokehJS libraries/stylesheets loaded\");\n",
       "        run_callbacks()\n",
       "      }\n",
       "    }\n",
       "\n",
       "    function on_error(url) {\n",
       "      console.error(\"failed to load \" + url);\n",
       "    }\n",
       "\n",
       "    for (let i = 0; i < css_urls.length; i++) {\n",
       "      const url = css_urls[i];\n",
       "      const element = document.createElement(\"link\");\n",
       "      element.onload = on_load;\n",
       "      element.onerror = on_error.bind(null, url);\n",
       "      element.rel = \"stylesheet\";\n",
       "      element.type = \"text/css\";\n",
       "      element.href = url;\n",
       "      console.debug(\"Bokeh: injecting link tag for BokehJS stylesheet: \", url);\n",
       "      document.body.appendChild(element);\n",
       "    }\n",
       "\n",
       "    for (let i = 0; i < js_urls.length; i++) {\n",
       "      const url = js_urls[i];\n",
       "      const element = document.createElement('script');\n",
       "      element.onload = on_load;\n",
       "      element.onerror = on_error.bind(null, url);\n",
       "      element.async = false;\n",
       "      element.src = url;\n",
       "      console.debug(\"Bokeh: injecting script tag for BokehJS library: \", url);\n",
       "      document.head.appendChild(element);\n",
       "    }\n",
       "  };\n",
       "\n",
       "  function inject_raw_css(css) {\n",
       "    const element = document.createElement(\"style\");\n",
       "    element.appendChild(document.createTextNode(css));\n",
       "    document.body.appendChild(element);\n",
       "  }\n",
       "\n",
       "  const js_urls = [\"https://cdn.bokeh.org/bokeh/release/bokeh-3.0.3.min.js\", \"https://cdn.bokeh.org/bokeh/release/bokeh-gl-3.0.3.min.js\", \"https://cdn.bokeh.org/bokeh/release/bokeh-widgets-3.0.3.min.js\", \"https://cdn.bokeh.org/bokeh/release/bokeh-tables-3.0.3.min.js\", \"https://cdn.bokeh.org/bokeh/release/bokeh-mathjax-3.0.3.min.js\"];\n",
       "  const css_urls = [];\n",
       "\n",
       "  const inline_js = [    function(Bokeh) {\n",
       "      Bokeh.set_log_level(\"info\");\n",
       "    },\n",
       "function(Bokeh) {\n",
       "    }\n",
       "  ];\n",
       "\n",
       "  function run_inline_js() {\n",
       "    if (root.Bokeh !== undefined || force === true) {\n",
       "          for (let i = 0; i < inline_js.length; i++) {\n",
       "      inline_js[i].call(root, root.Bokeh);\n",
       "    }\n",
       "if (force === true) {\n",
       "        display_loaded();\n",
       "      }} else if (Date.now() < root._bokeh_timeout) {\n",
       "      setTimeout(run_inline_js, 100);\n",
       "    } else if (!root._bokeh_failed_load) {\n",
       "      console.log(\"Bokeh: BokehJS failed to load within specified timeout.\");\n",
       "      root._bokeh_failed_load = true;\n",
       "    } else if (force !== true) {\n",
       "      const cell = $(document.getElementById(\"p1001\")).parents('.cell').data().cell;\n",
       "      cell.output_area.append_execute_result(NB_LOAD_WARNING)\n",
       "    }\n",
       "  }\n",
       "\n",
       "  if (root._bokeh_is_loading === 0) {\n",
       "    console.debug(\"Bokeh: BokehJS loaded, going straight to plotting\");\n",
       "    run_inline_js();\n",
       "  } else {\n",
       "    load_libs(css_urls, js_urls, function() {\n",
       "      console.debug(\"Bokeh: BokehJS plotting callback run at\", now());\n",
       "      run_inline_js();\n",
       "    });\n",
       "  }\n",
       "}(window));"
      ],
      "application/vnd.bokehjs_load.v0+json": "(function(root) {\n  function now() {\n    return new Date();\n  }\n\n  const force = true;\n\n  if (typeof root._bokeh_onload_callbacks === \"undefined\" || force === true) {\n    root._bokeh_onload_callbacks = [];\n    root._bokeh_is_loading = undefined;\n  }\n\n\n  if (typeof (root._bokeh_timeout) === \"undefined\" || force === true) {\n    root._bokeh_timeout = Date.now() + 5000;\n    root._bokeh_failed_load = false;\n  }\n\n  const NB_LOAD_WARNING = {'data': {'text/html':\n     \"<div style='background-color: #fdd'>\\n\"+\n     \"<p>\\n\"+\n     \"BokehJS does not appear to have successfully loaded. If loading BokehJS from CDN, this \\n\"+\n     \"may be due to a slow or bad network connection. Possible fixes:\\n\"+\n     \"</p>\\n\"+\n     \"<ul>\\n\"+\n     \"<li>re-rerun `output_notebook()` to attempt to load from CDN again, or</li>\\n\"+\n     \"<li>use INLINE resources instead, as so:</li>\\n\"+\n     \"</ul>\\n\"+\n     \"<code>\\n\"+\n     \"from bokeh.resources import INLINE\\n\"+\n     \"output_notebook(resources=INLINE)\\n\"+\n     \"</code>\\n\"+\n     \"</div>\"}};\n\n  function display_loaded() {\n    const el = document.getElementById(\"p1001\");\n    if (el != null) {\n      el.textContent = \"BokehJS is loading...\";\n    }\n    if (root.Bokeh !== undefined) {\n      if (el != null) {\n        el.textContent = \"BokehJS \" + root.Bokeh.version + \" successfully loaded.\";\n      }\n    } else if (Date.now() < root._bokeh_timeout) {\n      setTimeout(display_loaded, 100)\n    }\n  }\n\n  function run_callbacks() {\n    try {\n      root._bokeh_onload_callbacks.forEach(function(callback) {\n        if (callback != null)\n          callback();\n      });\n    } finally {\n      delete root._bokeh_onload_callbacks\n    }\n    console.debug(\"Bokeh: all callbacks have finished\");\n  }\n\n  function load_libs(css_urls, js_urls, callback) {\n    if (css_urls == null) css_urls = [];\n    if (js_urls == null) js_urls = [];\n\n    root._bokeh_onload_callbacks.push(callback);\n    if (root._bokeh_is_loading > 0) {\n      console.debug(\"Bokeh: BokehJS is being loaded, scheduling callback at\", now());\n      return null;\n    }\n    if (js_urls == null || js_urls.length === 0) {\n      run_callbacks();\n      return null;\n    }\n    console.debug(\"Bokeh: BokehJS not loaded, scheduling load and callback at\", now());\n    root._bokeh_is_loading = css_urls.length + js_urls.length;\n\n    function on_load() {\n      root._bokeh_is_loading--;\n      if (root._bokeh_is_loading === 0) {\n        console.debug(\"Bokeh: all BokehJS libraries/stylesheets loaded\");\n        run_callbacks()\n      }\n    }\n\n    function on_error(url) {\n      console.error(\"failed to load \" + url);\n    }\n\n    for (let i = 0; i < css_urls.length; i++) {\n      const url = css_urls[i];\n      const element = document.createElement(\"link\");\n      element.onload = on_load;\n      element.onerror = on_error.bind(null, url);\n      element.rel = \"stylesheet\";\n      element.type = \"text/css\";\n      element.href = url;\n      console.debug(\"Bokeh: injecting link tag for BokehJS stylesheet: \", url);\n      document.body.appendChild(element);\n    }\n\n    for (let i = 0; i < js_urls.length; i++) {\n      const url = js_urls[i];\n      const element = document.createElement('script');\n      element.onload = on_load;\n      element.onerror = on_error.bind(null, url);\n      element.async = false;\n      element.src = url;\n      console.debug(\"Bokeh: injecting script tag for BokehJS library: \", url);\n      document.head.appendChild(element);\n    }\n  };\n\n  function inject_raw_css(css) {\n    const element = document.createElement(\"style\");\n    element.appendChild(document.createTextNode(css));\n    document.body.appendChild(element);\n  }\n\n  const js_urls = [\"https://cdn.bokeh.org/bokeh/release/bokeh-3.0.3.min.js\", \"https://cdn.bokeh.org/bokeh/release/bokeh-gl-3.0.3.min.js\", \"https://cdn.bokeh.org/bokeh/release/bokeh-widgets-3.0.3.min.js\", \"https://cdn.bokeh.org/bokeh/release/bokeh-tables-3.0.3.min.js\", \"https://cdn.bokeh.org/bokeh/release/bokeh-mathjax-3.0.3.min.js\"];\n  const css_urls = [];\n\n  const inline_js = [    function(Bokeh) {\n      Bokeh.set_log_level(\"info\");\n    },\nfunction(Bokeh) {\n    }\n  ];\n\n  function run_inline_js() {\n    if (root.Bokeh !== undefined || force === true) {\n          for (let i = 0; i < inline_js.length; i++) {\n      inline_js[i].call(root, root.Bokeh);\n    }\nif (force === true) {\n        display_loaded();\n      }} else if (Date.now() < root._bokeh_timeout) {\n      setTimeout(run_inline_js, 100);\n    } else if (!root._bokeh_failed_load) {\n      console.log(\"Bokeh: BokehJS failed to load within specified timeout.\");\n      root._bokeh_failed_load = true;\n    } else if (force !== true) {\n      const cell = $(document.getElementById(\"p1001\")).parents('.cell').data().cell;\n      cell.output_area.append_execute_result(NB_LOAD_WARNING)\n    }\n  }\n\n  if (root._bokeh_is_loading === 0) {\n    console.debug(\"Bokeh: BokehJS loaded, going straight to plotting\");\n    run_inline_js();\n  } else {\n    load_libs(css_urls, js_urls, function() {\n      console.debug(\"Bokeh: BokehJS plotting callback run at\", now());\n      run_inline_js();\n    });\n  }\n}(window));"
     },
     "metadata": {},
     "output_type": "display_data"
    }
   ],
   "source": [
    "from bokeh.io import output_notebook, show\n",
    "from bokeh.plotting import figure\n",
    "from bokeh.models import HoverTool\n",
    "from bokeh.layouts import row\n",
    "\n",
    "TOOLTIPS = [\n",
    "  (\"X\",\"@x\"),\n",
    "  (\"Y\",\"@y\")\n",
    "]\n",
    "\n",
    "output_notebook()    \n",
    "\n",
    "# Helper that displays an inline video\n",
    "def display_video(frames, framerate=30, repeat=False):\n",
    "    h, w = frames[0].shape\n",
    "    dpi = 70\n",
    "    orig_backend = matplotlib.get_backend()\n",
    "    matplotlib.use('Agg')\n",
    "    fig, ax = plt.subplots(1, 1, figsize=(w / dpi, h / dpi), dpi=dpi)\n",
    "    matplotlib.use(orig_backend)\n",
    "    ax.set_axis_off()\n",
    "    ax.set_aspect('equal')\n",
    "    ax.set_position([0, 0, 1, 1])\n",
    "    im = ax.imshow(frames[0], cmap='gray', vmin=0, vmax=255)\n",
    "    def update(frame):\n",
    "        im.set_data(frame)\n",
    "        return [im]\n",
    "    interval = 1000 / framerate\n",
    "    anim = animation.FuncAnimation(fig=fig, func=update, frames=frames, \n",
    "                                   interval=interval, blit=True, repeat=repeat)\n",
    "    return HTML(anim.to_html5_video())\n",
    "\n",
    "def display_video2(dp, size):\n",
    "    ts, frames = list(), list()\n",
    "    for t, l, r, _ in tqdm(list(dp)):\n",
    "        ts.append(t)\n",
    "        frames.append(cv2.hconcat([cv2.resize(l,dsize=size), cv2.resize(r,dsize=size)]))\n",
    "    fps = len(frames) / ((ts[-1]-ts[0]) / 1e9)\n",
    "    print(\"fps: %d\" % math.floor(fps))\n",
    "    return display_video(frames, fps)\n"
   ]
  },
  {
   "cell_type": "markdown",
   "metadata": {
    "tags": []
   },
   "source": [
    "## Dataset Loaders"
   ]
  },
  {
   "cell_type": "code",
   "execution_count": 3,
   "metadata": {
    "tags": []
   },
   "outputs": [],
   "source": [
    "# Data Pipe\n",
    "from operator import itemgetter\n",
    "from torchdata.datapipes.iter import IterableWrapper\n",
    "\n",
    "CAM0_IMG_PAT = re.compile(r\"cam0/data/[0-9]+[.]png\")\n",
    "CAM1_IMG_PAT = re.compile(r\"cam1/data/[0-9]+[.]png\")\n",
    "IMU0_CSV_PAT = re.compile(r\"imu0/data[.]csv\")\n",
    "\n",
    "def collate_cam(data):\n",
    "    path, im = data\n",
    "    t = int(os.path.basename(path)[0:-4])\n",
    "    im = cv2.imdecode(np.frombuffer(im.read(), np.uint8), cv2.IMREAD_GRAYSCALE)\n",
    "    return t, im\n",
    "\n",
    "def classifier(data):\n",
    "    path, _ = data\n",
    "    if bool(IMU0_CSV_PAT.search(path)):\n",
    "        return 0\n",
    "    if bool(CAM0_IMG_PAT.search(path)):\n",
    "        return 1\n",
    "    elif bool(CAM1_IMG_PAT.search(path)):\n",
    "        return 2\n",
    "    else:\n",
    "        return None\n",
    "\n",
    "class Compounder:\n",
    "    def __init__(self, imu_dp):\n",
    "        self._imu = np.asarray(list(imu_dp))\n",
    "        self._t_last = 0\n",
    "\n",
    "    def __call__(self, cam0, cam1):\n",
    "        t = cam0[0]\n",
    "        if len(self._imu.shape) == 1:\n",
    "            imu = np.empty(0)\n",
    "        else:\n",
    "            imu = self._imu[self._imu[:,0] > self._t_last]\n",
    "            imu = imu[imu[:,0] <= t]\n",
    "        self._t_last = t\n",
    "        return t, cam0[1], cam1[1], imu\n",
    "\n",
    "def VIDataPipe(uri):    \n",
    "    \"\"\"Vision Inertial Data Pipeline that fetches stereo intertial VSLAM dataset from Google Cloud Storage or local file system\"\"\"        \n",
    "    \n",
    "    # Demux stereo inertial dataset into three data pipes: Imu0, Cam0, Cam1\n",
    "    if uri.startswith(\"gs://\"):\n",
    "        imu_dp, cam0_dp, cam1_dp = IterableWrapper([uri]) \\\n",
    "            .open_files_by_fsspec(mode=\"rb\") \\\n",
    "            .load_from_bz2() \\\n",
    "            .load_from_tar() \\\n",
    "            .demux(3, classifier_fn=classifier, drop_none=True, buffer_size=3000)\n",
    "    elif uri.endswith(\".tar.bz2\") or uri.endswith(\".tbz\"):\n",
    "        imu_dp, cam0_dp, cam1_dp = IterableWrapper([uri]) \\\n",
    "            .open_files(mode=\"rb\") \\\n",
    "            .load_from_bz2() \\\n",
    "            .load_from_tar() \\\n",
    "            .demux(3, classifier_fn=classifier, drop_none=True, buffer_size=3000)\n",
    "    elif uri.endswith(\".tar\"):\n",
    "        imu_dp, cam0_dp, cam1_dp = IterableWrapper([uri]) \\\n",
    "            .open_files(mode=\"rb\") \\\n",
    "            .load_from_tar() \\\n",
    "            .demux(3, classifier_fn=classifier, drop_none=True, buffer_size=3000)\n",
    "    else:\n",
    "        raise Error(\"unsupoprted uri type: %s\" % uri)\n",
    "\n",
    "    imu_dp = imu_dp \\\n",
    "        .parse_csv(skip_lines=1) \\\n",
    "        .map(lambda x: np.asarray(x).astype(np.double))\n",
    "    \n",
    "    # Sort by timestamp in asc order\n",
    "    cam0_dp = cam0_dp.map(collate_cam)\n",
    "    cam0_dp = IterableWrapper(sorted(list(cam0_dp), key=itemgetter(0)))    \n",
    "    cam1_dp = cam1_dp.map(collate_cam)                 \n",
    "        \n",
    "    # Collate final data pipe\n",
    "    dp = cam0_dp.zip_with_iter(cam1_dp, \n",
    "                               key_fn=itemgetter(0),\n",
    "                               ref_key_fn=itemgetter(0),\n",
    "                               merge_fn=Compounder(imu_dp),\n",
    "                               keep_key=False)\n",
    "    \n",
    "    return dp"
   ]
  },
  {
   "cell_type": "markdown",
   "metadata": {
    "tags": []
   },
   "source": [
    "## Helper functions"
   ]
  },
  {
   "cell_type": "code",
   "execution_count": 19,
   "metadata": {
    "tags": []
   },
   "outputs": [],
   "source": [
    "# Start Stereo VSLAM\n",
    "def track_stereo(slam, dp):\n",
    "    clahe = cv2.createCLAHE(clipLimit=3.0, tileGridSize=(8,8))\n",
    "    t0 = 0\n",
    "    for t, im0, im1, imu in tqdm(list(dp)):\n",
    "        if t0 == 0:\n",
    "            t0 = t\n",
    "        if len(imu.shape) > 1:\n",
    "            imu[:,[0]] -= t0\n",
    "        t = (t-t0) / 1e9\n",
    "        tcw = slam.track_stereo(clahe.apply(im0), clahe.apply(im1), t, imu)\n",
    "        yield np.concatenate(([t], tcw))"
   ]
  },
  {
   "cell_type": "code",
   "execution_count": 5,
   "metadata": {
    "tags": []
   },
   "outputs": [],
   "source": [
    "# Plot local pose estimation\n",
    "def plot_pose(camera_pose):\n",
    "    # Transform camera reference frame (X right, Y down, Z forward) to PX4 body reference frame (FRD)\n",
    "    pose = camera_pose[:,[0,3,1,2,6,4,5,7]]\n",
    "\n",
    "    fig = figure(width=500, height=500, title=\"Vision Odometry Position\", tooltips=TOOLTIPS)\n",
    "    fig.line(pose[:,0], pose[:,1], line_width=2, line_color=\"red\", legend_label=\"X\")\n",
    "    fig.line(pose[:,0], pose[:,2], line_width=2, line_color=\"green\", legend_label=\"Y\")\n",
    "    fig.line(pose[:,0], pose[:,3], line_width=2, line_color=\"blue\", legend_label=\"Z\")\n",
    "    fig.legend.location = \"top_left\"\n",
    "    fig.xaxis.axis_label = \"Time (s)\"\n",
    "    fig.yaxis.axis_label = '[m]'\n",
    "\n",
    "    # Plot rotation\n",
    "    rot = Rotation.from_quat(camera_pose[:,[4,5,6,7]]).as_euler('xyz', degrees=True)\n",
    "    fig2 = figure(width=500, height=500, title=\"Rotation\", tooltips=TOOLTIPS)\n",
    "    fig2.line(pose[:,0], rot[:,0], line_width=2, line_color=\"red\", legend_label=\"Roll\")\n",
    "    fig2.line(pose[:,0], rot[:,1], line_width=2, line_color=\"green\", legend_label=\"Pitch\")\n",
    "    fig2.line(pose[:,0], rot[:,2], line_width=2, line_color=\"blue\", legend_label=\"Yaw\")\n",
    "    fig2.legend.location = \"top_left\"\n",
    "    fig2.xaxis.axis_label = \"Time (s)\"\n",
    "    fig2.yaxis.axis_label = \"[deg]\"\n",
    "\n",
    "    show(row(fig, fig2))\n",
    "    \n",
    "# Plot X-Y map\n",
    "def plot_xy(camera_pose, width = 400, height = 400):\n",
    "    # Transform camera reference frame (X right, Y down, Z forward) to PX4 body reference frame (FRD)\n",
    "    pose = camera_pose[:,[0,3,1,2,6,4,5,7]] \n",
    "    p = figure(width=width, height=height, title=\"XY Map\")\n",
    "    p.circle(pose[:,1], pose[:,2], line_width=1)\n",
    "    p.xaxis.axis_label = 'X [m]'\n",
    "    p.yaxis.axis_label = 'Y [m]'\n",
    "\n",
    "    show(p)    "
   ]
  },
  {
   "cell_type": "code",
   "execution_count": 6,
   "metadata": {
    "tags": []
   },
   "outputs": [],
   "source": [
    "ORB_VOC = str(Path(\"../Vocabulary/ORBvoc.txt\").resolve())\n",
    "ORB_CONF = str(Path(\"datasets/orb-slam3-unity.yaml\").resolve())"
   ]
  },
  {
   "cell_type": "markdown",
   "metadata": {
    "tags": []
   },
   "source": [
    "## Vision Inertial MAP estimation with stereo camera"
   ]
  },
  {
   "cell_type": "markdown",
   "metadata": {
    "jp-MarkdownHeadingCollapsed": true,
    "tags": []
   },
   "source": [
    "### Rotate 360° at 15deg/s"
   ]
  },
  {
   "cell_type": "code",
   "execution_count": 17,
   "metadata": {},
   "outputs": [],
   "source": [
    "dp = VIDataPipe('datasets/sim_rotate_360_15deg.tar')"
   ]
  },
  {
   "cell_type": "code",
   "execution_count": null,
   "metadata": {},
   "outputs": [],
   "source": [
    "# Make a video from loaded dataset\n",
    "display_video2(dp, (400, 300))"
   ]
  },
  {
   "cell_type": "code",
   "execution_count": null,
   "metadata": {
    "tags": []
   },
   "outputs": [],
   "source": [
    "# Initialize ORB-SLAM3 System\n",
    "slam = orb_slam3.System(ORB_VOC, ORB_CONF, orb_slam3.Sensor.IMU_STEREO, False, 0)"
   ]
  },
  {
   "cell_type": "code",
   "execution_count": 20,
   "metadata": {
    "tags": []
   },
   "outputs": [
    {
     "data": {
      "application/vnd.jupyter.widget-view+json": {
       "model_id": "24d228955a30462784af4f60ee21ea12",
       "version_major": 2,
       "version_minor": 0
      },
      "text/plain": [
       "  0%|          | 0/529 [00:00<?, ?it/s]"
      ]
     },
     "metadata": {},
     "output_type": "display_data"
    },
    {
     "ename": "RuntimeError",
     "evalue": "IMU measurement must have 7 cols",
     "output_type": "error",
     "traceback": [
      "\u001b[0;31m---------------------------------------------------------------------------\u001b[0m",
      "\u001b[0;31mRuntimeError\u001b[0m                              Traceback (most recent call last)",
      "Cell \u001b[0;32mIn[20], line 2\u001b[0m\n\u001b[1;32m      1\u001b[0m \u001b[38;5;66;03m# Fuse stereo images and run tracking\u001b[39;00m\n\u001b[0;32m----> 2\u001b[0m pose \u001b[38;5;241m=\u001b[39m np\u001b[38;5;241m.\u001b[39marray([x \u001b[38;5;28;01mfor\u001b[39;00m x \u001b[38;5;129;01min\u001b[39;00m track_stereo(slam, dp)])\n",
      "Cell \u001b[0;32mIn[20], line 2\u001b[0m, in \u001b[0;36m<listcomp>\u001b[0;34m(.0)\u001b[0m\n\u001b[1;32m      1\u001b[0m \u001b[38;5;66;03m# Fuse stereo images and run tracking\u001b[39;00m\n\u001b[0;32m----> 2\u001b[0m pose \u001b[38;5;241m=\u001b[39m np\u001b[38;5;241m.\u001b[39marray([x \u001b[38;5;28;01mfor\u001b[39;00m x \u001b[38;5;129;01min\u001b[39;00m track_stereo(slam, dp)])\n",
      "Cell \u001b[0;32mIn[19], line 11\u001b[0m, in \u001b[0;36mtrack_stereo\u001b[0;34m(slam, dp)\u001b[0m\n\u001b[1;32m      9\u001b[0m     imu[:,[\u001b[38;5;241m0\u001b[39m]] \u001b[38;5;241m-\u001b[39m\u001b[38;5;241m=\u001b[39m t0\n\u001b[1;32m     10\u001b[0m t \u001b[38;5;241m=\u001b[39m (t\u001b[38;5;241m-\u001b[39mt0) \u001b[38;5;241m/\u001b[39m \u001b[38;5;241m1e9\u001b[39m\n\u001b[0;32m---> 11\u001b[0m tcw \u001b[38;5;241m=\u001b[39m \u001b[43mslam\u001b[49m\u001b[38;5;241;43m.\u001b[39;49m\u001b[43mtrack_stereo\u001b[49m\u001b[43m(\u001b[49m\u001b[43mclahe\u001b[49m\u001b[38;5;241;43m.\u001b[39;49m\u001b[43mapply\u001b[49m\u001b[43m(\u001b[49m\u001b[43mim0\u001b[49m\u001b[43m)\u001b[49m\u001b[43m,\u001b[49m\u001b[43m \u001b[49m\u001b[43mclahe\u001b[49m\u001b[38;5;241;43m.\u001b[39;49m\u001b[43mapply\u001b[49m\u001b[43m(\u001b[49m\u001b[43mim1\u001b[49m\u001b[43m)\u001b[49m\u001b[43m,\u001b[49m\u001b[43m \u001b[49m\u001b[43mt\u001b[49m\u001b[43m,\u001b[49m\u001b[43m \u001b[49m\u001b[43mimu\u001b[49m\u001b[43m)\u001b[49m\n\u001b[1;32m     12\u001b[0m \u001b[38;5;28;01myield\u001b[39;00m np\u001b[38;5;241m.\u001b[39mconcatenate(([t], tcw))\n",
      "\u001b[0;31mRuntimeError\u001b[0m: IMU measurement must have 7 cols"
     ]
    }
   ],
   "source": [
    "# Fuse stereo images and run tracking\n",
    "pose = np.array([x for x in track_stereo(slam, dp)])"
   ]
  },
  {
   "cell_type": "code",
   "execution_count": null,
   "metadata": {
    "tags": []
   },
   "outputs": [],
   "source": [
    "# Plot VSLAM pose estimation result\n",
    "plot_pose(pose)"
   ]
  },
  {
   "cell_type": "code",
   "execution_count": null,
   "metadata": {
    "tags": []
   },
   "outputs": [],
   "source": [
    "# Plot X-Y map\n",
    "plot_xy(pose)"
   ]
  },
  {
   "cell_type": "markdown",
   "metadata": {
    "tags": []
   },
   "source": [
    "## Vision only MAP estimation with stereo camera\n",
    "\n",
    "These examples show how to fuse stereo images into ORB-SLAM3 and then get a world pose."
   ]
  },
  {
   "cell_type": "markdown",
   "metadata": {
    "tags": []
   },
   "source": [
    "### Evaluate sim-takeoff-20m\n",
    "\n",
    "Evaluate simulator dataset that ascends to 20m AGL and then land at the same spot."
   ]
  },
  {
   "cell_type": "code",
   "execution_count": 7,
   "metadata": {
    "tags": []
   },
   "outputs": [
    {
     "name": "stderr",
     "output_type": "stream",
     "text": [
      "/usr/src/ORB_SLAM3/python/venv/lib/python3.8/site-packages/torch/utils/data/datapipes/utils/common.py:135: UserWarning: Local function is not supported by pickle, please use regular python function or functools.partial instead.\n",
      "  warnings.warn(\n"
     ]
    }
   ],
   "source": [
    "# Load simulator dataset that ascends to 20m AGL and then land\n",
    "dp = VIDataPipe(\"datasets/sim_takeoff_20m.tar\")"
   ]
  },
  {
   "cell_type": "code",
   "execution_count": null,
   "metadata": {
    "tags": []
   },
   "outputs": [],
   "source": [
    "# Display video\n",
    "display_video2(dp, (400,300))    "
   ]
  },
  {
   "cell_type": "code",
   "execution_count": 8,
   "metadata": {
    "tags": []
   },
   "outputs": [
    {
     "name": "stdout",
     "output_type": "stream",
     "text": [
      "\n",
      "ORB-SLAM3 Copyright (C) 2017-2020 Carlos Campos, Richard Elvira, Juan J. Gómez, José M.M. Montiel and Juan D. Tardós, University of Zaragoza.\n",
      "ORB-SLAM2 Copyright (C) 2014-2016 Raúl Mur-Artal, José M.M. Montiel and Juan D. Tardós, University of Zaragoza.\n",
      "This program comes with ABSOLUTELY NO WARRANTY;\n",
      "This is free software, and you are welcome to redistribute it\n",
      "under certain conditions. See LICENSE.txt.\n",
      "\n",
      "Input sensor was set to: Stereo\n",
      "Loading settings from /usr/src/ORB_SLAM3/python/datasets/orb-slam3-unity.yaml\n",
      "\t-Loaded camera 1\n",
      "\t-Loaded camera 2\n",
      "\t-Loaded image info\n",
      "\t-Loaded ORB settings\n",
      "\t-Loaded viewer settings\n",
      "\t-Loaded Atlas settings\n",
      "\t-Loaded misc parameters\n",
      "\t-Computed rectification maps\n",
      "----------------------------------\n",
      "SLAM settings: \n",
      "\t-Camera 1 parameters (Pinhole): [ 971.159 974.21 399.568 299.672 ]\n",
      "\t-Camera 1 distortion parameters: [  -0.00169682 -0.0052296 0.000343946 -0.000117598 ]\n",
      "\t-Camera 2 parameters (Pinhole: [ 971.235 974.272 399.873 299.429 ]\n",
      "\t-Camera 1 distortion parameters: [  -0.000858809 -0.0118133 0.000264973 0.000167523 ]\n",
      "\t-Original image size: [ 800 , 600 ]\n",
      "\t-Current image size: [ 800 , 600 ]\n",
      "\t-Camera 1 parameters after rectification: [  974.241 974.241 401.271 299.703 ]\n",
      "\t-Sequence FPS: 15\n",
      "\t-Stereo baseline: 0.107512\n",
      "\t-Stereo depth threshold : 30\n",
      "\t-Features per image: 1200\n",
      "\t-ORB scale factor: 1.2\n",
      "\t-ORB number of scales: 8\n",
      "\t-Initial FAST threshold: 20\n",
      "\t-Min FAST threshold: 7\n",
      "\n",
      "\n",
      "Loading ORB Vocabulary. This could take a while...\n",
      "Vocabulary loaded!\n",
      "\n",
      "Initialization of Atlas from scratch \n",
      "Creation of new map with id: 0\n",
      "Creation of new map with last KF id: 0\n",
      "Seq. Name: \n",
      "There are 1 cameras in the atlas\n",
      "Camera 0 is pinhole\n"
     ]
    },
    {
     "name": "stderr",
     "output_type": "stream",
     "text": [
      "Camera1.k3 optional parameter does not exist...\n",
      "Camera2.k3 optional parameter does not exist...\n",
      "Camera.newHeight optional parameter does not exist...\n",
      "Camera.newWidth optional parameter does not exist...\n",
      "System.LoadAtlasFromFile optional parameter does not exist...\n",
      "System.SaveAtlasToFile optional parameter does not exist...\n",
      "System.thFarPoints optional parameter does not exist...\n"
     ]
    }
   ],
   "source": [
    "# Initialize ORB-SLAM3 System\n",
    "slam = orb_slam3.System(ORB_VOC, ORB_CONF, orb_slam3.Sensor.STEREO, False, 0)"
   ]
  },
  {
   "cell_type": "code",
   "execution_count": 9,
   "metadata": {
    "tags": []
   },
   "outputs": [
    {
     "data": {
      "application/vnd.jupyter.widget-view+json": {
       "model_id": "79de3d3eabaf431188e8b2404639fe30",
       "version_major": 2,
       "version_minor": 0
      },
      "text/plain": [
       "  0%|          | 0/628 [00:00<?, ?it/s]"
      ]
     },
     "metadata": {},
     "output_type": "display_data"
    },
    {
     "name": "stdout",
     "output_type": "stream",
     "text": [
      "First KF:0; Map init KF:0\n",
      "New Map created with 466 points\n",
      "TRACK_REF_KF: Less than 15 matches!!\n",
      "Fail to track local map!\n",
      "LM: Active map reset recieved\n",
      "LM: Active map reset, waiting...\n",
      "LM: Reseting current map in Local Mapping...\n",
      "LM: End reseting Local Mapping...\n",
      "LM: Reset free the mutex\n",
      "LM: Active map reset, Done!!!\n",
      "mnFirstFrameId = 0\n",
      "mnInitialFrameId = 0\n",
      "1 Frames set to lost\n",
      "First KF:1; Map init KF:0\n",
      "New Map created with 473 points\n",
      "Fail to track local map!\n",
      "Fail to track local map!\n",
      "Fail to track local map!\n",
      "Fail to track local map!\n",
      "Fail to track local map!\n",
      "Fail to track local map!\n",
      "Fail to track local map!\n",
      "Fail to track local map!\n",
      "Fail to track local map!\n",
      "Fail to track local map!\n",
      "Fail to track local map!\n",
      "Fail to track local map!\n",
      "Fail to track local map!\n",
      "Fail to track local map!\n",
      "Fail to track local map!\n",
      "Fail to track local map!\n",
      "Fail to track local map!\n",
      "Fail to track local map!\n",
      "Fail to track local map!\n",
      "Fail to track local map!\n",
      "Fail to track local map!\n",
      "Fail to track local map!\n",
      "Fail to track local map!\n",
      "Fail to track local map!\n",
      "Fail to track local map!\n",
      "Fail to track local map!\n",
      "Fail to track local map!\n",
      "LM: Active map reset recieved\n",
      "LM: Active map reset, waiting...\n",
      "LM: Reseting current map in Local Mapping...\n",
      "LM: End reseting Local Mapping...\n",
      "LM: Reset free the mutex\n",
      "LM: Active map reset, Done!!!\n",
      "mnFirstFrameId = 2\n",
      "mnInitialFrameId = 1\n",
      "28 Frames set to lost\n",
      "First KF:2; Map init KF:1\n",
      "New Map created with 471 points\n"
     ]
    }
   ],
   "source": [
    "# Fuse stereo images and run tracking\n",
    "pose = np.array([x for x in track_stereo(slam, dp)])"
   ]
  },
  {
   "cell_type": "code",
   "execution_count": 10,
   "metadata": {
    "tags": []
   },
   "outputs": [
    {
     "data": {
      "text/html": [
       "\n",
       "  <div id=\"a15d058a-fec9-4ea0-af62-d3b93c6df003\" data-root-id=\"p1270\" style=\"display: contents;\"></div>\n"
      ]
     },
     "metadata": {},
     "output_type": "display_data"
    },
    {
     "data": {
      "application/javascript": [
       "(function(root) {\n",
       "  function embed_document(root) {\n",
       "  const docs_json = {\"ad559bd3-8ca8-4086-93b0-e25dc73ccffb\":{\"version\":\"3.0.3\",\"title\":\"Bokeh Application\",\"defs\":[],\"roots\":[{\"type\":\"object\",\"name\":\"Row\",\"id\":\"p1270\",\"attributes\":{\"children\":[{\"type\":\"object\",\"name\":\"Figure\",\"id\":\"p1002\",\"attributes\":{\"width\":500,\"height\":500,\"x_range\":{\"type\":\"object\",\"name\":\"DataRange1d\",\"id\":\"p1003\"},\"y_range\":{\"type\":\"object\",\"name\":\"DataRange1d\",\"id\":\"p1004\"},\"x_scale\":{\"type\":\"object\",\"name\":\"LinearScale\",\"id\":\"p1016\"},\"y_scale\":{\"type\":\"object\",\"name\":\"LinearScale\",\"id\":\"p1018\"},\"title\":{\"type\":\"object\",\"name\":\"Title\",\"id\":\"p1005\",\"attributes\":{\"text\":\"Vision Odometry Position\"}},\"renderers\":[{\"type\":\"object\",\"name\":\"GlyphRenderer\",\"id\":\"p1057\",\"attributes\":{\"data_source\":{\"type\":\"object\",\"name\":\"ColumnDataSource\",\"id\":\"p1051\",\"attributes\":{\"selected\":{\"type\":\"object\",\"name\":\"Selection\",\"id\":\"p1053\",\"attributes\":{\"indices\":[],\"line_indices\":[]}},\"selection_policy\":{\"type\":\"object\",\"name\":\"UnionRenderers\",\"id\":\"p1052\"},\"data\":{\"type\":\"map\",\"entries\":[[\"x\",{\"type\":\"ndarray\",\"array\":{\"type\":\"bytes\",\"data\":\"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\"},\"shape\":[628],\"dtype\":\"float64\",\"order\":\"little\"}],[\"y\",{\"type\":\"ndarray\",\"array\":{\"type\":\"bytes\",\"data\":\"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\"},\"shape\":[628],\"dtype\":\"float64\",\"order\":\"little\"}]]}}},\"view\":{\"type\":\"object\",\"name\":\"CDSView\",\"id\":\"p1058\",\"attributes\":{\"filter\":{\"type\":\"object\",\"name\":\"AllIndices\",\"id\":\"p1059\"}}},\"glyph\":{\"type\":\"object\",\"name\":\"Line\",\"id\":\"p1054\",\"attributes\":{\"x\":{\"type\":\"field\",\"field\":\"x\"},\"y\":{\"type\":\"field\",\"field\":\"y\"},\"line_color\":\"red\",\"line_width\":2}},\"nonselection_glyph\":{\"type\":\"object\",\"name\":\"Line\",\"id\":\"p1055\",\"attributes\":{\"x\":{\"type\":\"field\",\"field\":\"x\"},\"y\":{\"type\":\"field\",\"field\":\"y\"},\"line_color\":\"red\",\"line_alpha\":0.1,\"line_width\":2}},\"muted_glyph\":{\"type\":\"object\",\"name\":\"Line\",\"id\":\"p1056\",\"attributes\":{\"x\":{\"type\":\"field\",\"field\":\"x\"},\"y\":{\"type\":\"field\",\"field\":\"y\"},\"line_color\":\"red\",\"line_alpha\":0.2,\"line_width\":2}}}},{\"type\":\"object\",\"name\":\"GlyphRenderer\",\"id\":\"p1081\",\"attributes\":{\"data_source\":{\"type\":\"object\",\"name\":\"ColumnDataSource\",\"id\":\"p1075\",\"attributes\":{\"selected\":{\"type\":\"object\",\"name\":\"Selection\",\"id\":\"p1077\",\"attributes\":{\"indices\":[],\"line_indices\":[]}},\"selection_policy\":{\"type\":\"object\",\"name\":\"UnionRenderers\",\"id\":\"p1076\"},\"data\":{\"type\":\"map\",\"entries\":[[\"x\",{\"type\":\"ndarray\",\"array\":{\"type\":\"bytes\",\"data\":\"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\"},\"shape\":[628],\"dtype\":\"float64\",\"order\":\"little\"}],[\"y\",{\"type\":\"ndarray\",\"array\":{\"type\":\"bytes\",\"data\":\"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\"},\"shape\":[628],\"dtype\":\"float64\",\"order\":\"little\"}]]}}},\"view\":{\"type\":\"object\",\"name\":\"CDSView\",\"id\":\"p1082\",\"attributes\":{\"filter\":{\"type\":\"object\",\"name\":\"AllIndices\",\"id\":\"p1083\"}}},\"glyph\":{\"type\":\"object\",\"name\":\"Line\",\"id\":\"p1078\",\"attributes\":{\"x\":{\"type\":\"field\",\"field\":\"x\"},\"y\":{\"type\":\"field\",\"field\":\"y\"},\"line_color\":\"green\",\"line_width\":2}},\"nonselection_glyph\":{\"type\":\"object\",\"name\":\"Line\",\"id\":\"p1079\",\"attributes\":{\"x\":{\"type\":\"field\",\"field\":\"x\"},\"y\":{\"type\":\"field\",\"field\":\"y\"},\"line_color\":\"green\",\"line_alpha\":0.1,\"line_width\":2}},\"muted_glyph\":{\"type\":\"object\",\"name\":\"Line\",\"id\":\"p1080\",\"attributes\":{\"x\":{\"type\":\"field\",\"field\":\"x\"},\"y\":{\"type\":\"field\",\"field\":\"y\"},\"line_color\":\"green\",\"line_alpha\":0.2,\"line_width\":2}}}},{\"type\":\"object\",\"name\":\"GlyphRenderer\",\"id\":\"p1109\",\"attributes\":{\"data_source\":{\"type\":\"object\",\"name\":\"ColumnDataSource\",\"id\":\"p1103\",\"attributes\":{\"selected\":{\"type\":\"object\",\"name\":\"Selection\",\"id\":\"p1105\",\"attributes\":{\"indices\":[],\"line_indices\":[]}},\"selection_policy\":{\"type\":\"object\",\"name\":\"UnionRenderers\",\"id\":\"p1104\"},\"data\":{\"type\":\"map\",\"entries\":[[\"x\",{\"type\":\"ndarray\",\"array\":{\"type\":\"bytes\",\"data\":\"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\"},\"shape\":[628],\"dtype\":\"float64\",\"order\":\"little\"}],[\"y\",{\"type\":\"ndarray\",\"array\":{\"type\":\"bytes\",\"data\":\"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\"},\"shape\":[628],\"dtype\":\"float64\",\"order\":\"little\"}]]}}},\"view\":{\"type\":\"object\",\"name\":\"CDSView\",\"id\":\"p1110\",\"attributes\":{\"filter\":{\"type\":\"object\",\"name\":\"AllIndices\",\"id\":\"p1111\"}}},\"glyph\":{\"type\":\"object\",\"name\":\"Line\",\"id\":\"p1106\",\"attributes\":{\"x\":{\"type\":\"field\",\"field\":\"x\"},\"y\":{\"type\":\"field\",\"field\":\"y\"},\"line_color\":\"blue\",\"line_width\":2}},\"nonselection_glyph\":{\"type\":\"object\",\"name\":\"Line\",\"id\":\"p1107\",\"attributes\":{\"x\":{\"type\":\"field\",\"field\":\"x\"},\"y\":{\"type\":\"field\",\"field\":\"y\"},\"line_color\":\"blue\",\"line_alpha\":0.1,\"line_width\":2}},\"muted_glyph\":{\"type\":\"object\",\"name\":\"Line\",\"id\":\"p1108\",\"attributes\":{\"x\":{\"type\":\"field\",\"field\":\"x\"},\"y\":{\"type\":\"field\",\"field\":\"y\"},\"line_color\":\"blue\",\"line_alpha\":0.2,\"line_width\":2}}}}],\"toolbar\":{\"type\":\"object\",\"name\":\"Toolbar\",\"id\":\"p1009\",\"attributes\":{\"tools\":[{\"type\":\"object\",\"name\":\"PanTool\",\"id\":\"p1034\"},{\"type\":\"object\",\"name\":\"WheelZoomTool\",\"id\":\"p1035\"},{\"type\":\"object\",\"name\":\"BoxZoomTool\",\"id\":\"p1036\",\"attributes\":{\"overlay\":{\"type\":\"object\",\"name\":\"BoxAnnotation\",\"id\":\"p1037\",\"attributes\":{\"syncable\":false,\"level\":\"overlay\",\"visible\":false,\"left_units\":\"canvas\",\"right_units\":\"canvas\",\"bottom_units\":\"canvas\",\"top_units\":\"canvas\",\"line_color\":\"black\",\"line_alpha\":1.0,\"line_width\":2,\"line_dash\":[4,4],\"fill_color\":\"lightgrey\",\"fill_alpha\":0.5}}}},{\"type\":\"object\",\"name\":\"SaveTool\",\"id\":\"p1038\"},{\"type\":\"object\",\"name\":\"ResetTool\",\"id\":\"p1039\"},{\"type\":\"object\",\"name\":\"HelpTool\",\"id\":\"p1040\"},{\"type\":\"object\",\"name\":\"HoverTool\",\"id\":\"p1042\",\"attributes\":{\"renderers\":\"auto\",\"tooltips\":[[\"X\",\"@x\"],[\"Y\",\"@y\"]]}}]}},\"left\":[{\"type\":\"object\",\"name\":\"LinearAxis\",\"id\":\"p1027\",\"attributes\":{\"ticker\":{\"type\":\"object\",\"name\":\"BasicTicker\",\"id\":\"p1030\",\"attributes\":{\"mantissas\":[1,2,5]}},\"formatter\":{\"type\":\"object\",\"name\":\"BasicTickFormatter\",\"id\":\"p1029\"},\"axis_label\":\"[m]\",\"major_label_policy\":{\"type\":\"object\",\"name\":\"AllLabels\",\"id\":\"p1028\"}}}],\"below\":[{\"type\":\"object\",\"name\":\"LinearAxis\",\"id\":\"p1020\",\"attributes\":{\"ticker\":{\"type\":\"object\",\"name\":\"BasicTicker\",\"id\":\"p1023\",\"attributes\":{\"mantissas\":[1,2,5]}},\"formatter\":{\"type\":\"object\",\"name\":\"BasicTickFormatter\",\"id\":\"p1022\"},\"axis_label\":\"Time (s)\",\"major_label_policy\":{\"type\":\"object\",\"name\":\"AllLabels\",\"id\":\"p1021\"}}}],\"center\":[{\"type\":\"object\",\"name\":\"Grid\",\"id\":\"p1026\",\"attributes\":{\"axis\":{\"id\":\"p1020\"}}},{\"type\":\"object\",\"name\":\"Grid\",\"id\":\"p1033\",\"attributes\":{\"dimension\":1,\"axis\":{\"id\":\"p1027\"}}},{\"type\":\"object\",\"name\":\"Legend\",\"id\":\"p1073\",\"attributes\":{\"location\":\"top_left\",\"items\":[{\"type\":\"object\",\"name\":\"LegendItem\",\"id\":\"p1074\",\"attributes\":{\"label\":{\"type\":\"value\",\"value\":\"X\"},\"renderers\":[{\"id\":\"p1057\"}]}},{\"type\":\"object\",\"name\":\"LegendItem\",\"id\":\"p1102\",\"attributes\":{\"label\":{\"type\":\"value\",\"value\":\"Y\"},\"renderers\":[{\"id\":\"p1081\"}]}},{\"type\":\"object\",\"name\":\"LegendItem\",\"id\":\"p1135\",\"attributes\":{\"label\":{\"type\":\"value\",\"value\":\"Z\"},\"renderers\":[{\"id\":\"p1109\"}]}}]}}]}},{\"type\":\"object\",\"name\":\"Figure\",\"id\":\"p1136\",\"attributes\":{\"width\":500,\"height\":500,\"x_range\":{\"type\":\"object\",\"name\":\"DataRange1d\",\"id\":\"p1137\"},\"y_range\":{\"type\":\"object\",\"name\":\"DataRange1d\",\"id\":\"p1138\"},\"x_scale\":{\"type\":\"object\",\"name\":\"LinearScale\",\"id\":\"p1150\"},\"y_scale\":{\"type\":\"object\",\"name\":\"LinearScale\",\"id\":\"p1152\"},\"title\":{\"type\":\"object\",\"name\":\"Title\",\"id\":\"p1139\",\"attributes\":{\"text\":\"Rotation\"}},\"renderers\":[{\"type\":\"object\",\"name\":\"GlyphRenderer\",\"id\":\"p1191\",\"attributes\":{\"data_source\":{\"type\":\"object\",\"name\":\"ColumnDataSource\",\"id\":\"p1185\",\"attributes\":{\"selected\":{\"type\":\"object\",\"name\":\"Selection\",\"id\":\"p1187\",\"attributes\":{\"indices\":[],\"line_indices\":[]}},\"selection_policy\":{\"type\":\"object\",\"name\":\"UnionRenderers\",\"id\":\"p1186\"},\"data\":{\"type\":\"map\",\"entries\":[[\"x\",{\"type\":\"ndarray\",\"array\":{\"type\":\"bytes\",\"data\":\"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\"},\"shape\":[628],\"dtype\":\"float64\",\"order\":\"little\"}],[\"y\",{\"type\":\"ndarray\",\"array\":{\"type\":\"bytes\",\"data\":\"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\"},\"shape\":[628],\"dtype\":\"float64\",\"order\":\"little\"}]]}}},\"view\":{\"type\":\"object\",\"name\":\"CDSView\",\"id\":\"p1192\",\"attributes\":{\"filter\":{\"type\":\"object\",\"name\":\"AllIndices\",\"id\":\"p1193\"}}},\"glyph\":{\"type\":\"object\",\"name\":\"Line\",\"id\":\"p1188\",\"attributes\":{\"x\":{\"type\":\"field\",\"field\":\"x\"},\"y\":{\"type\":\"field\",\"field\":\"y\"},\"line_color\":\"red\",\"line_width\":2}},\"nonselection_glyph\":{\"type\":\"object\",\"name\":\"Line\",\"id\":\"p1189\",\"attributes\":{\"x\":{\"type\":\"field\",\"field\":\"x\"},\"y\":{\"type\":\"field\",\"field\":\"y\"},\"line_color\":\"red\",\"line_alpha\":0.1,\"line_width\":2}},\"muted_glyph\":{\"type\":\"object\",\"name\":\"Line\",\"id\":\"p1190\",\"attributes\":{\"x\":{\"type\":\"field\",\"field\":\"x\"},\"y\":{\"type\":\"field\",\"field\":\"y\"},\"line_color\":\"red\",\"line_alpha\":0.2,\"line_width\":2}}}},{\"type\":\"object\",\"name\":\"GlyphRenderer\",\"id\":\"p1215\",\"attributes\":{\"data_source\":{\"type\":\"object\",\"name\":\"ColumnDataSource\",\"id\":\"p1209\",\"attributes\":{\"selected\":{\"type\":\"object\",\"name\":\"Selection\",\"id\":\"p1211\",\"attributes\":{\"indices\":[],\"line_indices\":[]}},\"selection_policy\":{\"type\":\"object\",\"name\":\"UnionRenderers\",\"id\":\"p1210\"},\"data\":{\"type\":\"map\",\"entries\":[[\"x\",{\"type\":\"ndarray\",\"array\":{\"type\":\"bytes\",\"data\":\"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\"},\"shape\":[628],\"dtype\":\"float64\",\"order\":\"little\"}],[\"y\",{\"type\":\"ndarray\",\"array\":{\"type\":\"bytes\",\"data\":\"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\"},\"shape\":[628],\"dtype\":\"float64\",\"order\":\"little\"}]]}}},\"view\":{\"type\":\"object\",\"name\":\"CDSView\",\"id\":\"p1216\",\"attributes\":{\"filter\":{\"type\":\"object\",\"name\":\"AllIndices\",\"id\":\"p1217\"}}},\"glyph\":{\"type\":\"object\",\"name\":\"Line\",\"id\":\"p1212\",\"attributes\":{\"x\":{\"type\":\"field\",\"field\":\"x\"},\"y\":{\"type\":\"field\",\"field\":\"y\"},\"line_color\":\"green\",\"line_width\":2}},\"nonselection_glyph\":{\"type\":\"object\",\"name\":\"Line\",\"id\":\"p1213\",\"attributes\":{\"x\":{\"type\":\"field\",\"field\":\"x\"},\"y\":{\"type\":\"field\",\"field\":\"y\"},\"line_color\":\"green\",\"line_alpha\":0.1,\"line_width\":2}},\"muted_glyph\":{\"type\":\"object\",\"name\":\"Line\",\"id\":\"p1214\",\"attributes\":{\"x\":{\"type\":\"field\",\"field\":\"x\"},\"y\":{\"type\":\"field\",\"field\":\"y\"},\"line_color\":\"green\",\"line_alpha\":0.2,\"line_width\":2}}}},{\"type\":\"object\",\"name\":\"GlyphRenderer\",\"id\":\"p1243\",\"attributes\":{\"data_source\":{\"type\":\"object\",\"name\":\"ColumnDataSource\",\"id\":\"p1237\",\"attributes\":{\"selected\":{\"type\":\"object\",\"name\":\"Selection\",\"id\":\"p1239\",\"attributes\":{\"indices\":[],\"line_indices\":[]}},\"selection_policy\":{\"type\":\"object\",\"name\":\"UnionRenderers\",\"id\":\"p1238\"},\"data\":{\"type\":\"map\",\"entries\":[[\"x\",{\"type\":\"ndarray\",\"array\":{\"type\":\"bytes\",\"data\":\"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\"},\"shape\":[628],\"dtype\":\"float64\",\"order\":\"little\"}],[\"y\",{\"type\":\"ndarray\",\"array\":{\"type\":\"bytes\",\"data\":\"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\"},\"shape\":[628],\"dtype\":\"float64\",\"order\":\"little\"}]]}}},\"view\":{\"type\":\"object\",\"name\":\"CDSView\",\"id\":\"p1244\",\"attributes\":{\"filter\":{\"type\":\"object\",\"name\":\"AllIndices\",\"id\":\"p1245\"}}},\"glyph\":{\"type\":\"object\",\"name\":\"Line\",\"id\":\"p1240\",\"attributes\":{\"x\":{\"type\":\"field\",\"field\":\"x\"},\"y\":{\"type\":\"field\",\"field\":\"y\"},\"line_color\":\"blue\",\"line_width\":2}},\"nonselection_glyph\":{\"type\":\"object\",\"name\":\"Line\",\"id\":\"p1241\",\"attributes\":{\"x\":{\"type\":\"field\",\"field\":\"x\"},\"y\":{\"type\":\"field\",\"field\":\"y\"},\"line_color\":\"blue\",\"line_alpha\":0.1,\"line_width\":2}},\"muted_glyph\":{\"type\":\"object\",\"name\":\"Line\",\"id\":\"p1242\",\"attributes\":{\"x\":{\"type\":\"field\",\"field\":\"x\"},\"y\":{\"type\":\"field\",\"field\":\"y\"},\"line_color\":\"blue\",\"line_alpha\":0.2,\"line_width\":2}}}}],\"toolbar\":{\"type\":\"object\",\"name\":\"Toolbar\",\"id\":\"p1143\",\"attributes\":{\"tools\":[{\"type\":\"object\",\"name\":\"PanTool\",\"id\":\"p1168\"},{\"type\":\"object\",\"name\":\"WheelZoomTool\",\"id\":\"p1169\"},{\"type\":\"object\",\"name\":\"BoxZoomTool\",\"id\":\"p1170\",\"attributes\":{\"overlay\":{\"type\":\"object\",\"name\":\"BoxAnnotation\",\"id\":\"p1171\",\"attributes\":{\"syncable\":false,\"level\":\"overlay\",\"visible\":false,\"left_units\":\"canvas\",\"right_units\":\"canvas\",\"bottom_units\":\"canvas\",\"top_units\":\"canvas\",\"line_color\":\"black\",\"line_alpha\":1.0,\"line_width\":2,\"line_dash\":[4,4],\"fill_color\":\"lightgrey\",\"fill_alpha\":0.5}}}},{\"type\":\"object\",\"name\":\"SaveTool\",\"id\":\"p1172\"},{\"type\":\"object\",\"name\":\"ResetTool\",\"id\":\"p1173\"},{\"type\":\"object\",\"name\":\"HelpTool\",\"id\":\"p1174\"},{\"type\":\"object\",\"name\":\"HoverTool\",\"id\":\"p1176\",\"attributes\":{\"renderers\":\"auto\",\"tooltips\":[[\"X\",\"@x\"],[\"Y\",\"@y\"]]}}]}},\"left\":[{\"type\":\"object\",\"name\":\"LinearAxis\",\"id\":\"p1161\",\"attributes\":{\"ticker\":{\"type\":\"object\",\"name\":\"BasicTicker\",\"id\":\"p1164\",\"attributes\":{\"mantissas\":[1,2,5]}},\"formatter\":{\"type\":\"object\",\"name\":\"BasicTickFormatter\",\"id\":\"p1163\"},\"axis_label\":\"[deg]\",\"major_label_policy\":{\"type\":\"object\",\"name\":\"AllLabels\",\"id\":\"p1162\"}}}],\"below\":[{\"type\":\"object\",\"name\":\"LinearAxis\",\"id\":\"p1154\",\"attributes\":{\"ticker\":{\"type\":\"object\",\"name\":\"BasicTicker\",\"id\":\"p1157\",\"attributes\":{\"mantissas\":[1,2,5]}},\"formatter\":{\"type\":\"object\",\"name\":\"BasicTickFormatter\",\"id\":\"p1156\"},\"axis_label\":\"Time (s)\",\"major_label_policy\":{\"type\":\"object\",\"name\":\"AllLabels\",\"id\":\"p1155\"}}}],\"center\":[{\"type\":\"object\",\"name\":\"Grid\",\"id\":\"p1160\",\"attributes\":{\"axis\":{\"id\":\"p1154\"}}},{\"type\":\"object\",\"name\":\"Grid\",\"id\":\"p1167\",\"attributes\":{\"dimension\":1,\"axis\":{\"id\":\"p1161\"}}},{\"type\":\"object\",\"name\":\"Legend\",\"id\":\"p1207\",\"attributes\":{\"location\":\"top_left\",\"items\":[{\"type\":\"object\",\"name\":\"LegendItem\",\"id\":\"p1208\",\"attributes\":{\"label\":{\"type\":\"value\",\"value\":\"Roll\"},\"renderers\":[{\"id\":\"p1191\"}]}},{\"type\":\"object\",\"name\":\"LegendItem\",\"id\":\"p1236\",\"attributes\":{\"label\":{\"type\":\"value\",\"value\":\"Pitch\"},\"renderers\":[{\"id\":\"p1215\"}]}},{\"type\":\"object\",\"name\":\"LegendItem\",\"id\":\"p1269\",\"attributes\":{\"label\":{\"type\":\"value\",\"value\":\"Yaw\"},\"renderers\":[{\"id\":\"p1243\"}]}}]}}]}}]}}]}};\n",
       "  const render_items = [{\"docid\":\"ad559bd3-8ca8-4086-93b0-e25dc73ccffb\",\"roots\":{\"p1270\":\"a15d058a-fec9-4ea0-af62-d3b93c6df003\"},\"root_ids\":[\"p1270\"]}];\n",
       "  root.Bokeh.embed.embed_items_notebook(docs_json, render_items);\n",
       "  }\n",
       "  if (root.Bokeh !== undefined) {\n",
       "    embed_document(root);\n",
       "  } else {\n",
       "    let attempts = 0;\n",
       "    const timer = setInterval(function(root) {\n",
       "      if (root.Bokeh !== undefined) {\n",
       "        clearInterval(timer);\n",
       "        embed_document(root);\n",
       "      } else {\n",
       "        attempts++;\n",
       "        if (attempts > 100) {\n",
       "          clearInterval(timer);\n",
       "          console.log(\"Bokeh: ERROR: Unable to run BokehJS code because BokehJS library is missing\");\n",
       "        }\n",
       "      }\n",
       "    }, 10, root)\n",
       "  }\n",
       "})(window);"
      ],
      "application/vnd.bokehjs_exec.v0+json": ""
     },
     "metadata": {
      "application/vnd.bokehjs_exec.v0+json": {
       "id": "p1270"
      }
     },
     "output_type": "display_data"
    }
   ],
   "source": [
    "# Plot VSLAM pose estimation result\n",
    "plot_pose(pose)"
   ]
  },
  {
   "cell_type": "code",
   "execution_count": 11,
   "metadata": {
    "tags": []
   },
   "outputs": [
    {
     "data": {
      "text/html": [
       "\n",
       "  <div id=\"525b62bf-5a74-4b30-8594-00cd9cbeedd0\" data-root-id=\"p1577\" style=\"display: contents;\"></div>\n"
      ]
     },
     "metadata": {},
     "output_type": "display_data"
    },
    {
     "data": {
      "application/javascript": [
       "(function(root) {\n",
       "  function embed_document(root) {\n",
       "  const docs_json = {\"75218df2-a762-47ad-8243-30daeff4d471\":{\"version\":\"3.0.3\",\"title\":\"Bokeh Application\",\"defs\":[],\"roots\":[{\"type\":\"object\",\"name\":\"Figure\",\"id\":\"p1577\",\"attributes\":{\"width\":400,\"height\":400,\"x_range\":{\"type\":\"object\",\"name\":\"DataRange1d\",\"id\":\"p1578\"},\"y_range\":{\"type\":\"object\",\"name\":\"DataRange1d\",\"id\":\"p1579\"},\"x_scale\":{\"type\":\"object\",\"name\":\"LinearScale\",\"id\":\"p1591\"},\"y_scale\":{\"type\":\"object\",\"name\":\"LinearScale\",\"id\":\"p1593\"},\"title\":{\"type\":\"object\",\"name\":\"Title\",\"id\":\"p1580\",\"attributes\":{\"text\":\"XY Map\"}},\"renderers\":[{\"type\":\"object\",\"name\":\"GlyphRenderer\",\"id\":\"p1630\",\"attributes\":{\"data_source\":{\"type\":\"object\",\"name\":\"ColumnDataSource\",\"id\":\"p1624\",\"attributes\":{\"selected\":{\"type\":\"object\",\"name\":\"Selection\",\"id\":\"p1626\",\"attributes\":{\"indices\":[],\"line_indices\":[]}},\"selection_policy\":{\"type\":\"object\",\"name\":\"UnionRenderers\",\"id\":\"p1625\"},\"data\":{\"type\":\"map\",\"entries\":[[\"x\",{\"type\":\"ndarray\",\"array\":{\"type\":\"bytes\",\"data\":\"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\"},\"shape\":[628],\"dtype\":\"float64\",\"order\":\"little\"}],[\"y\",{\"type\":\"ndarray\",\"array\":{\"type\":\"bytes\",\"data\":\"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\"},\"shape\":[628],\"dtype\":\"float64\",\"order\":\"little\"}]]}}},\"view\":{\"type\":\"object\",\"name\":\"CDSView\",\"id\":\"p1631\",\"attributes\":{\"filter\":{\"type\":\"object\",\"name\":\"AllIndices\",\"id\":\"p1632\"}}},\"glyph\":{\"type\":\"object\",\"name\":\"Circle\",\"id\":\"p1627\",\"attributes\":{\"x\":{\"type\":\"field\",\"field\":\"x\"},\"y\":{\"type\":\"field\",\"field\":\"y\"},\"line_color\":{\"type\":\"value\",\"value\":\"#1f77b4\"},\"fill_color\":{\"type\":\"value\",\"value\":\"#1f77b4\"}}},\"nonselection_glyph\":{\"type\":\"object\",\"name\":\"Circle\",\"id\":\"p1628\",\"attributes\":{\"x\":{\"type\":\"field\",\"field\":\"x\"},\"y\":{\"type\":\"field\",\"field\":\"y\"},\"line_color\":{\"type\":\"value\",\"value\":\"#1f77b4\"},\"line_alpha\":{\"type\":\"value\",\"value\":0.1},\"fill_color\":{\"type\":\"value\",\"value\":\"#1f77b4\"},\"fill_alpha\":{\"type\":\"value\",\"value\":0.1},\"hatch_alpha\":{\"type\":\"value\",\"value\":0.1}}},\"muted_glyph\":{\"type\":\"object\",\"name\":\"Circle\",\"id\":\"p1629\",\"attributes\":{\"x\":{\"type\":\"field\",\"field\":\"x\"},\"y\":{\"type\":\"field\",\"field\":\"y\"},\"line_color\":{\"type\":\"value\",\"value\":\"#1f77b4\"},\"line_alpha\":{\"type\":\"value\",\"value\":0.2},\"fill_color\":{\"type\":\"value\",\"value\":\"#1f77b4\"},\"fill_alpha\":{\"type\":\"value\",\"value\":0.2},\"hatch_alpha\":{\"type\":\"value\",\"value\":0.2}}}}}],\"toolbar\":{\"type\":\"object\",\"name\":\"Toolbar\",\"id\":\"p1584\",\"attributes\":{\"tools\":[{\"type\":\"object\",\"name\":\"PanTool\",\"id\":\"p1609\"},{\"type\":\"object\",\"name\":\"WheelZoomTool\",\"id\":\"p1610\"},{\"type\":\"object\",\"name\":\"BoxZoomTool\",\"id\":\"p1611\",\"attributes\":{\"overlay\":{\"type\":\"object\",\"name\":\"BoxAnnotation\",\"id\":\"p1612\",\"attributes\":{\"syncable\":false,\"level\":\"overlay\",\"visible\":false,\"left_units\":\"canvas\",\"right_units\":\"canvas\",\"bottom_units\":\"canvas\",\"top_units\":\"canvas\",\"line_color\":\"black\",\"line_alpha\":1.0,\"line_width\":2,\"line_dash\":[4,4],\"fill_color\":\"lightgrey\",\"fill_alpha\":0.5}}}},{\"type\":\"object\",\"name\":\"SaveTool\",\"id\":\"p1613\"},{\"type\":\"object\",\"name\":\"ResetTool\",\"id\":\"p1614\"},{\"type\":\"object\",\"name\":\"HelpTool\",\"id\":\"p1615\"}]}},\"left\":[{\"type\":\"object\",\"name\":\"LinearAxis\",\"id\":\"p1602\",\"attributes\":{\"ticker\":{\"type\":\"object\",\"name\":\"BasicTicker\",\"id\":\"p1605\",\"attributes\":{\"mantissas\":[1,2,5]}},\"formatter\":{\"type\":\"object\",\"name\":\"BasicTickFormatter\",\"id\":\"p1604\"},\"axis_label\":\"Y [m]\",\"major_label_policy\":{\"type\":\"object\",\"name\":\"AllLabels\",\"id\":\"p1603\"}}}],\"below\":[{\"type\":\"object\",\"name\":\"LinearAxis\",\"id\":\"p1595\",\"attributes\":{\"ticker\":{\"type\":\"object\",\"name\":\"BasicTicker\",\"id\":\"p1598\",\"attributes\":{\"mantissas\":[1,2,5]}},\"formatter\":{\"type\":\"object\",\"name\":\"BasicTickFormatter\",\"id\":\"p1597\"},\"axis_label\":\"X [m]\",\"major_label_policy\":{\"type\":\"object\",\"name\":\"AllLabels\",\"id\":\"p1596\"}}}],\"center\":[{\"type\":\"object\",\"name\":\"Grid\",\"id\":\"p1601\",\"attributes\":{\"axis\":{\"id\":\"p1595\"}}},{\"type\":\"object\",\"name\":\"Grid\",\"id\":\"p1608\",\"attributes\":{\"dimension\":1,\"axis\":{\"id\":\"p1602\"}}}]}}]}};\n",
       "  const render_items = [{\"docid\":\"75218df2-a762-47ad-8243-30daeff4d471\",\"roots\":{\"p1577\":\"525b62bf-5a74-4b30-8594-00cd9cbeedd0\"},\"root_ids\":[\"p1577\"]}];\n",
       "  root.Bokeh.embed.embed_items_notebook(docs_json, render_items);\n",
       "  }\n",
       "  if (root.Bokeh !== undefined) {\n",
       "    embed_document(root);\n",
       "  } else {\n",
       "    let attempts = 0;\n",
       "    const timer = setInterval(function(root) {\n",
       "      if (root.Bokeh !== undefined) {\n",
       "        clearInterval(timer);\n",
       "        embed_document(root);\n",
       "      } else {\n",
       "        attempts++;\n",
       "        if (attempts > 100) {\n",
       "          clearInterval(timer);\n",
       "          console.log(\"Bokeh: ERROR: Unable to run BokehJS code because BokehJS library is missing\");\n",
       "        }\n",
       "      }\n",
       "    }, 10, root)\n",
       "  }\n",
       "})(window);"
      ],
      "application/vnd.bokehjs_exec.v0+json": ""
     },
     "metadata": {
      "application/vnd.bokehjs_exec.v0+json": {
       "id": "p1577"
      }
     },
     "output_type": "display_data"
    }
   ],
   "source": [
    "# Plot X-Y map\n",
    "plot_xy(pose)"
   ]
  },
  {
   "cell_type": "markdown",
   "metadata": {
    "tags": []
   },
   "source": [
    "### Rotate 360 deg in 15deg/s\n",
    "\n",
    "Evaluate simulator dataset that a vehicle takes off, ascends to 5m AGL, roate 360 deg twice, then land at same spot. Rotation speed is _15deg/s_."
   ]
  },
  {
   "cell_type": "code",
   "execution_count": 12,
   "metadata": {
    "tags": []
   },
   "outputs": [],
   "source": [
    "# Load simulator dataset that climbs to 5m AGL and rotate 360deg in 15deg/s\n",
    "dp = VIDataPipe(\"datasets/sim_rotate_360_15deg.tar\")"
   ]
  },
  {
   "cell_type": "code",
   "execution_count": null,
   "metadata": {
    "tags": []
   },
   "outputs": [],
   "source": [
    "# Display video\n",
    "display_video2(dp, (400,300))    "
   ]
  },
  {
   "cell_type": "code",
   "execution_count": 13,
   "metadata": {
    "tags": []
   },
   "outputs": [
    {
     "name": "stdout",
     "output_type": "stream",
     "text": [
      "\n",
      "ORB-SLAM3 Copyright (C) 2017-2020 Carlos Campos, Richard Elvira, Juan J. Gómez, José M.M. Montiel and Juan D. Tardós, University of Zaragoza.\n",
      "ORB-SLAM2 Copyright (C) 2014-2016 Raúl Mur-Artal, José M.M. Montiel and Juan D. Tardós, University of Zaragoza.\n",
      "This program comes with ABSOLUTELY NO WARRANTY;\n",
      "This is free software, and you are welcome to redistribute it\n",
      "under certain conditions. See LICENSE.txt.\n",
      "\n",
      "Input sensor was set to: Stereo\n",
      "Loading settings from /usr/src/ORB_SLAM3/python/datasets/orb-slam3-unity.yaml\n",
      "\t-Loaded camera 1\n",
      "\t-Loaded camera 2\n",
      "\t-Loaded image info\n",
      "\t-Loaded ORB settings\n",
      "\t-Loaded viewer settings\n",
      "\t-Loaded Atlas settings\n",
      "\t-Loaded misc parameters\n",
      "\t-Computed rectification maps\n",
      "----------------------------------\n",
      "SLAM settings: \n",
      "\t-Camera 1 parameters (Pinhole): [ 971.159 974.21 399.568 299.672 ]\n",
      "\t-Camera 1 distortion parameters: [  -0.00169682 -0.0052296 0.000343946 -0.000117598 ]\n",
      "\t-Camera 2 parameters (Pinhole: [ 971.235 974.272 399.873 299.429 ]\n",
      "\t-Camera 1 distortion parameters: [  -0.000858809 -0.0118133 0.000264973 0.000167523 ]\n",
      "\t-Original image size: [ 800 , 600 ]\n",
      "\t-Current image size: [ 800 , 600 ]\n",
      "\t-Camera 1 parameters after rectification: [  974.241 974.241 401.271 299.703 ]\n",
      "\t-Sequence FPS: 15\n",
      "\t-Stereo baseline: 0.107512\n",
      "\t-Stereo depth threshold : 30\n",
      "\t-Features per image: 1200\n",
      "\t-ORB scale factor: 1.2\n",
      "\t-ORB number of scales: 8\n",
      "\t-Initial FAST threshold: 20\n",
      "\t-Min FAST threshold: 7\n",
      "\n",
      "\n",
      "Loading ORB Vocabulary. This could take a while...\n",
      "Vocabulary loaded!\n",
      "\n",
      "Initialization of Atlas from scratch \n",
      "Creation of new map with id: 1\n",
      "Creation of new map with last KF id: 0\n",
      "Seq. Name: \n",
      "There are 1 cameras in the atlas\n",
      "Camera 4 is pinhole\n"
     ]
    },
    {
     "name": "stderr",
     "output_type": "stream",
     "text": [
      "Camera1.k3 optional parameter does not exist...\n",
      "Camera2.k3 optional parameter does not exist...\n",
      "Camera.newHeight optional parameter does not exist...\n",
      "Camera.newWidth optional parameter does not exist...\n",
      "System.LoadAtlasFromFile optional parameter does not exist...\n",
      "System.SaveAtlasToFile optional parameter does not exist...\n",
      "System.thFarPoints optional parameter does not exist...\n"
     ]
    }
   ],
   "source": [
    "# Initialize ORB-SLAM3 System\n",
    "slam = orb_slam3.System(ORB_VOC, ORB_CONF, orb_slam3.Sensor.STEREO, False, 0)"
   ]
  },
  {
   "cell_type": "code",
   "execution_count": 14,
   "metadata": {
    "tags": []
   },
   "outputs": [
    {
     "data": {
      "application/vnd.jupyter.widget-view+json": {
       "model_id": "744ff0b647f64e57bf5b7a348cb05a09",
       "version_major": 2,
       "version_minor": 0
      },
      "text/plain": [
       "  0%|          | 0/529 [00:00<?, ?it/s]"
      ]
     },
     "metadata": {},
     "output_type": "display_data"
    },
    {
     "name": "stdout",
     "output_type": "stream",
     "text": [
      "First KF:63; Map init KF:0\n",
      "New Map created with 443 points\n",
      "*Loop detected\n",
      "Local Mapping STOP\n",
      "Local Mapping RELEASE\n",
      "Fail to track local map!\n",
      "Relocalized!!\n",
      "Local Mapping STOP\n",
      "Local Mapping RELEASE\n"
     ]
    }
   ],
   "source": [
    "# Fuse stereo images and run tracking\n",
    "pose = np.array([x for x in track_stereo(slam, dp)])"
   ]
  },
  {
   "cell_type": "code",
   "execution_count": 15,
   "metadata": {
    "tags": []
   },
   "outputs": [
    {
     "data": {
      "text/html": [
       "\n",
       "  <div id=\"f0c4fe68-86bc-452b-8299-fca9752121d2\" data-root-id=\"p2027\" style=\"display: contents;\"></div>\n"
      ]
     },
     "metadata": {},
     "output_type": "display_data"
    },
    {
     "data": {
      "application/javascript": [
       "(function(root) {\n",
       "  function embed_document(root) {\n",
       "  const docs_json = {\"c8ee81d1-0b50-46e4-9b1a-93b12200653b\":{\"version\":\"3.0.3\",\"title\":\"Bokeh Application\",\"defs\":[],\"roots\":[{\"type\":\"object\",\"name\":\"Row\",\"id\":\"p2027\",\"attributes\":{\"children\":[{\"type\":\"object\",\"name\":\"Figure\",\"id\":\"p1759\",\"attributes\":{\"width\":500,\"height\":500,\"x_range\":{\"type\":\"object\",\"name\":\"DataRange1d\",\"id\":\"p1760\"},\"y_range\":{\"type\":\"object\",\"name\":\"DataRange1d\",\"id\":\"p1761\"},\"x_scale\":{\"type\":\"object\",\"name\":\"LinearScale\",\"id\":\"p1773\"},\"y_scale\":{\"type\":\"object\",\"name\":\"LinearScale\",\"id\":\"p1775\"},\"title\":{\"type\":\"object\",\"name\":\"Title\",\"id\":\"p1762\",\"attributes\":{\"text\":\"Vision Odometry Position\"}},\"renderers\":[{\"type\":\"object\",\"name\":\"GlyphRenderer\",\"id\":\"p1814\",\"attributes\":{\"data_source\":{\"type\":\"object\",\"name\":\"ColumnDataSource\",\"id\":\"p1808\",\"attributes\":{\"selected\":{\"type\":\"object\",\"name\":\"Selection\",\"id\":\"p1810\",\"attributes\":{\"indices\":[],\"line_indices\":[]}},\"selection_policy\":{\"type\":\"object\",\"name\":\"UnionRenderers\",\"id\":\"p1809\"},\"data\":{\"type\":\"map\",\"entries\":[[\"x\",{\"type\":\"ndarray\",\"array\":{\"type\":\"bytes\",\"data\":\"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\"},\"shape\":[529],\"dtype\":\"float64\",\"order\":\"little\"}],[\"y\",{\"type\":\"ndarray\",\"array\":{\"type\":\"bytes\",\"data\":\"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\"},\"shape\":[529],\"dtype\":\"float64\",\"order\":\"little\"}]]}}},\"view\":{\"type\":\"object\",\"name\":\"CDSView\",\"id\":\"p1815\",\"attributes\":{\"filter\":{\"type\":\"object\",\"name\":\"AllIndices\",\"id\":\"p1816\"}}},\"glyph\":{\"type\":\"object\",\"name\":\"Line\",\"id\":\"p1811\",\"attributes\":{\"x\":{\"type\":\"field\",\"field\":\"x\"},\"y\":{\"type\":\"field\",\"field\":\"y\"},\"line_color\":\"red\",\"line_width\":2}},\"nonselection_glyph\":{\"type\":\"object\",\"name\":\"Line\",\"id\":\"p1812\",\"attributes\":{\"x\":{\"type\":\"field\",\"field\":\"x\"},\"y\":{\"type\":\"field\",\"field\":\"y\"},\"line_color\":\"red\",\"line_alpha\":0.1,\"line_width\":2}},\"muted_glyph\":{\"type\":\"object\",\"name\":\"Line\",\"id\":\"p1813\",\"attributes\":{\"x\":{\"type\":\"field\",\"field\":\"x\"},\"y\":{\"type\":\"field\",\"field\":\"y\"},\"line_color\":\"red\",\"line_alpha\":0.2,\"line_width\":2}}}},{\"type\":\"object\",\"name\":\"GlyphRenderer\",\"id\":\"p1838\",\"attributes\":{\"data_source\":{\"type\":\"object\",\"name\":\"ColumnDataSource\",\"id\":\"p1832\",\"attributes\":{\"selected\":{\"type\":\"object\",\"name\":\"Selection\",\"id\":\"p1834\",\"attributes\":{\"indices\":[],\"line_indices\":[]}},\"selection_policy\":{\"type\":\"object\",\"name\":\"UnionRenderers\",\"id\":\"p1833\"},\"data\":{\"type\":\"map\",\"entries\":[[\"x\",{\"type\":\"ndarray\",\"array\":{\"type\":\"bytes\",\"data\":\"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\"},\"shape\":[529],\"dtype\":\"float64\",\"order\":\"little\"}],[\"y\",{\"type\":\"ndarray\",\"array\":{\"type\":\"bytes\",\"data\":\"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\"},\"shape\":[529],\"dtype\":\"float64\",\"order\":\"little\"}]]}}},\"view\":{\"type\":\"object\",\"name\":\"CDSView\",\"id\":\"p1839\",\"attributes\":{\"filter\":{\"type\":\"object\",\"name\":\"AllIndices\",\"id\":\"p1840\"}}},\"glyph\":{\"type\":\"object\",\"name\":\"Line\",\"id\":\"p1835\",\"attributes\":{\"x\":{\"type\":\"field\",\"field\":\"x\"},\"y\":{\"type\":\"field\",\"field\":\"y\"},\"line_color\":\"green\",\"line_width\":2}},\"nonselection_glyph\":{\"type\":\"object\",\"name\":\"Line\",\"id\":\"p1836\",\"attributes\":{\"x\":{\"type\":\"field\",\"field\":\"x\"},\"y\":{\"type\":\"field\",\"field\":\"y\"},\"line_color\":\"green\",\"line_alpha\":0.1,\"line_width\":2}},\"muted_glyph\":{\"type\":\"object\",\"name\":\"Line\",\"id\":\"p1837\",\"attributes\":{\"x\":{\"type\":\"field\",\"field\":\"x\"},\"y\":{\"type\":\"field\",\"field\":\"y\"},\"line_color\":\"green\",\"line_alpha\":0.2,\"line_width\":2}}}},{\"type\":\"object\",\"name\":\"GlyphRenderer\",\"id\":\"p1866\",\"attributes\":{\"data_source\":{\"type\":\"object\",\"name\":\"ColumnDataSource\",\"id\":\"p1860\",\"attributes\":{\"selected\":{\"type\":\"object\",\"name\":\"Selection\",\"id\":\"p1862\",\"attributes\":{\"indices\":[],\"line_indices\":[]}},\"selection_policy\":{\"type\":\"object\",\"name\":\"UnionRenderers\",\"id\":\"p1861\"},\"data\":{\"type\":\"map\",\"entries\":[[\"x\",{\"type\":\"ndarray\",\"array\":{\"type\":\"bytes\",\"data\":\"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\"},\"shape\":[529],\"dtype\":\"float64\",\"order\":\"little\"}],[\"y\",{\"type\":\"ndarray\",\"array\":{\"type\":\"bytes\",\"data\":\"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\"},\"shape\":[529],\"dtype\":\"float64\",\"order\":\"little\"}]]}}},\"view\":{\"type\":\"object\",\"name\":\"CDSView\",\"id\":\"p1867\",\"attributes\":{\"filter\":{\"type\":\"object\",\"name\":\"AllIndices\",\"id\":\"p1868\"}}},\"glyph\":{\"type\":\"object\",\"name\":\"Line\",\"id\":\"p1863\",\"attributes\":{\"x\":{\"type\":\"field\",\"field\":\"x\"},\"y\":{\"type\":\"field\",\"field\":\"y\"},\"line_color\":\"blue\",\"line_width\":2}},\"nonselection_glyph\":{\"type\":\"object\",\"name\":\"Line\",\"id\":\"p1864\",\"attributes\":{\"x\":{\"type\":\"field\",\"field\":\"x\"},\"y\":{\"type\":\"field\",\"field\":\"y\"},\"line_color\":\"blue\",\"line_alpha\":0.1,\"line_width\":2}},\"muted_glyph\":{\"type\":\"object\",\"name\":\"Line\",\"id\":\"p1865\",\"attributes\":{\"x\":{\"type\":\"field\",\"field\":\"x\"},\"y\":{\"type\":\"field\",\"field\":\"y\"},\"line_color\":\"blue\",\"line_alpha\":0.2,\"line_width\":2}}}}],\"toolbar\":{\"type\":\"object\",\"name\":\"Toolbar\",\"id\":\"p1766\",\"attributes\":{\"tools\":[{\"type\":\"object\",\"name\":\"PanTool\",\"id\":\"p1791\"},{\"type\":\"object\",\"name\":\"WheelZoomTool\",\"id\":\"p1792\"},{\"type\":\"object\",\"name\":\"BoxZoomTool\",\"id\":\"p1793\",\"attributes\":{\"overlay\":{\"type\":\"object\",\"name\":\"BoxAnnotation\",\"id\":\"p1794\",\"attributes\":{\"syncable\":false,\"level\":\"overlay\",\"visible\":false,\"left_units\":\"canvas\",\"right_units\":\"canvas\",\"bottom_units\":\"canvas\",\"top_units\":\"canvas\",\"line_color\":\"black\",\"line_alpha\":1.0,\"line_width\":2,\"line_dash\":[4,4],\"fill_color\":\"lightgrey\",\"fill_alpha\":0.5}}}},{\"type\":\"object\",\"name\":\"SaveTool\",\"id\":\"p1795\"},{\"type\":\"object\",\"name\":\"ResetTool\",\"id\":\"p1796\"},{\"type\":\"object\",\"name\":\"HelpTool\",\"id\":\"p1797\"},{\"type\":\"object\",\"name\":\"HoverTool\",\"id\":\"p1799\",\"attributes\":{\"renderers\":\"auto\",\"tooltips\":[[\"X\",\"@x\"],[\"Y\",\"@y\"]]}}]}},\"left\":[{\"type\":\"object\",\"name\":\"LinearAxis\",\"id\":\"p1784\",\"attributes\":{\"ticker\":{\"type\":\"object\",\"name\":\"BasicTicker\",\"id\":\"p1787\",\"attributes\":{\"mantissas\":[1,2,5]}},\"formatter\":{\"type\":\"object\",\"name\":\"BasicTickFormatter\",\"id\":\"p1786\"},\"axis_label\":\"[m]\",\"major_label_policy\":{\"type\":\"object\",\"name\":\"AllLabels\",\"id\":\"p1785\"}}}],\"below\":[{\"type\":\"object\",\"name\":\"LinearAxis\",\"id\":\"p1777\",\"attributes\":{\"ticker\":{\"type\":\"object\",\"name\":\"BasicTicker\",\"id\":\"p1780\",\"attributes\":{\"mantissas\":[1,2,5]}},\"formatter\":{\"type\":\"object\",\"name\":\"BasicTickFormatter\",\"id\":\"p1779\"},\"axis_label\":\"Time (s)\",\"major_label_policy\":{\"type\":\"object\",\"name\":\"AllLabels\",\"id\":\"p1778\"}}}],\"center\":[{\"type\":\"object\",\"name\":\"Grid\",\"id\":\"p1783\",\"attributes\":{\"axis\":{\"id\":\"p1777\"}}},{\"type\":\"object\",\"name\":\"Grid\",\"id\":\"p1790\",\"attributes\":{\"dimension\":1,\"axis\":{\"id\":\"p1784\"}}},{\"type\":\"object\",\"name\":\"Legend\",\"id\":\"p1830\",\"attributes\":{\"location\":\"top_left\",\"items\":[{\"type\":\"object\",\"name\":\"LegendItem\",\"id\":\"p1831\",\"attributes\":{\"label\":{\"type\":\"value\",\"value\":\"X\"},\"renderers\":[{\"id\":\"p1814\"}]}},{\"type\":\"object\",\"name\":\"LegendItem\",\"id\":\"p1859\",\"attributes\":{\"label\":{\"type\":\"value\",\"value\":\"Y\"},\"renderers\":[{\"id\":\"p1838\"}]}},{\"type\":\"object\",\"name\":\"LegendItem\",\"id\":\"p1892\",\"attributes\":{\"label\":{\"type\":\"value\",\"value\":\"Z\"},\"renderers\":[{\"id\":\"p1866\"}]}}]}}]}},{\"type\":\"object\",\"name\":\"Figure\",\"id\":\"p1893\",\"attributes\":{\"width\":500,\"height\":500,\"x_range\":{\"type\":\"object\",\"name\":\"DataRange1d\",\"id\":\"p1894\"},\"y_range\":{\"type\":\"object\",\"name\":\"DataRange1d\",\"id\":\"p1895\"},\"x_scale\":{\"type\":\"object\",\"name\":\"LinearScale\",\"id\":\"p1907\"},\"y_scale\":{\"type\":\"object\",\"name\":\"LinearScale\",\"id\":\"p1909\"},\"title\":{\"type\":\"object\",\"name\":\"Title\",\"id\":\"p1896\",\"attributes\":{\"text\":\"Rotation\"}},\"renderers\":[{\"type\":\"object\",\"name\":\"GlyphRenderer\",\"id\":\"p1948\",\"attributes\":{\"data_source\":{\"type\":\"object\",\"name\":\"ColumnDataSource\",\"id\":\"p1942\",\"attributes\":{\"selected\":{\"type\":\"object\",\"name\":\"Selection\",\"id\":\"p1944\",\"attributes\":{\"indices\":[],\"line_indices\":[]}},\"selection_policy\":{\"type\":\"object\",\"name\":\"UnionRenderers\",\"id\":\"p1943\"},\"data\":{\"type\":\"map\",\"entries\":[[\"x\",{\"type\":\"ndarray\",\"array\":{\"type\":\"bytes\",\"data\":\"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\"},\"shape\":[529],\"dtype\":\"float64\",\"order\":\"little\"}],[\"y\",{\"type\":\"ndarray\",\"array\":{\"type\":\"bytes\",\"data\":\"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\"},\"shape\":[529],\"dtype\":\"float64\",\"order\":\"little\"}]]}}},\"view\":{\"type\":\"object\",\"name\":\"CDSView\",\"id\":\"p1949\",\"attributes\":{\"filter\":{\"type\":\"object\",\"name\":\"AllIndices\",\"id\":\"p1950\"}}},\"glyph\":{\"type\":\"object\",\"name\":\"Line\",\"id\":\"p1945\",\"attributes\":{\"x\":{\"type\":\"field\",\"field\":\"x\"},\"y\":{\"type\":\"field\",\"field\":\"y\"},\"line_color\":\"red\",\"line_width\":2}},\"nonselection_glyph\":{\"type\":\"object\",\"name\":\"Line\",\"id\":\"p1946\",\"attributes\":{\"x\":{\"type\":\"field\",\"field\":\"x\"},\"y\":{\"type\":\"field\",\"field\":\"y\"},\"line_color\":\"red\",\"line_alpha\":0.1,\"line_width\":2}},\"muted_glyph\":{\"type\":\"object\",\"name\":\"Line\",\"id\":\"p1947\",\"attributes\":{\"x\":{\"type\":\"field\",\"field\":\"x\"},\"y\":{\"type\":\"field\",\"field\":\"y\"},\"line_color\":\"red\",\"line_alpha\":0.2,\"line_width\":2}}}},{\"type\":\"object\",\"name\":\"GlyphRenderer\",\"id\":\"p1972\",\"attributes\":{\"data_source\":{\"type\":\"object\",\"name\":\"ColumnDataSource\",\"id\":\"p1966\",\"attributes\":{\"selected\":{\"type\":\"object\",\"name\":\"Selection\",\"id\":\"p1968\",\"attributes\":{\"indices\":[],\"line_indices\":[]}},\"selection_policy\":{\"type\":\"object\",\"name\":\"UnionRenderers\",\"id\":\"p1967\"},\"data\":{\"type\":\"map\",\"entries\":[[\"x\",{\"type\":\"ndarray\",\"array\":{\"type\":\"bytes\",\"data\":\"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\"},\"shape\":[529],\"dtype\":\"float64\",\"order\":\"little\"}],[\"y\",{\"type\":\"ndarray\",\"array\":{\"type\":\"bytes\",\"data\":\"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\"},\"shape\":[529],\"dtype\":\"float64\",\"order\":\"little\"}]]}}},\"view\":{\"type\":\"object\",\"name\":\"CDSView\",\"id\":\"p1973\",\"attributes\":{\"filter\":{\"type\":\"object\",\"name\":\"AllIndices\",\"id\":\"p1974\"}}},\"glyph\":{\"type\":\"object\",\"name\":\"Line\",\"id\":\"p1969\",\"attributes\":{\"x\":{\"type\":\"field\",\"field\":\"x\"},\"y\":{\"type\":\"field\",\"field\":\"y\"},\"line_color\":\"green\",\"line_width\":2}},\"nonselection_glyph\":{\"type\":\"object\",\"name\":\"Line\",\"id\":\"p1970\",\"attributes\":{\"x\":{\"type\":\"field\",\"field\":\"x\"},\"y\":{\"type\":\"field\",\"field\":\"y\"},\"line_color\":\"green\",\"line_alpha\":0.1,\"line_width\":2}},\"muted_glyph\":{\"type\":\"object\",\"name\":\"Line\",\"id\":\"p1971\",\"attributes\":{\"x\":{\"type\":\"field\",\"field\":\"x\"},\"y\":{\"type\":\"field\",\"field\":\"y\"},\"line_color\":\"green\",\"line_alpha\":0.2,\"line_width\":2}}}},{\"type\":\"object\",\"name\":\"GlyphRenderer\",\"id\":\"p2000\",\"attributes\":{\"data_source\":{\"type\":\"object\",\"name\":\"ColumnDataSource\",\"id\":\"p1994\",\"attributes\":{\"selected\":{\"type\":\"object\",\"name\":\"Selection\",\"id\":\"p1996\",\"attributes\":{\"indices\":[],\"line_indices\":[]}},\"selection_policy\":{\"type\":\"object\",\"name\":\"UnionRenderers\",\"id\":\"p1995\"},\"data\":{\"type\":\"map\",\"entries\":[[\"x\",{\"type\":\"ndarray\",\"array\":{\"type\":\"bytes\",\"data\":\"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\"},\"shape\":[529],\"dtype\":\"float64\",\"order\":\"little\"}],[\"y\",{\"type\":\"ndarray\",\"array\":{\"type\":\"bytes\",\"data\":\"AAAAAAAAAAAVOSZJrARcv8SeNL7ECX2/MUD+JtLRhr9dVlFU79VXvzg7nGvY+DA/BlmHoVUhdb8Poxpdcil6v2vtS3inR3i/F1gPYv1rRT/eJ+eYs/JmP7G0xpBuQiu/6WtGfZ0efz/3ELhMWRlhPwqQLH5hloE/EtDtOD6mgD+ETpSdBWF+P0eM6dF5glw/Cr41UClPZz9nU59T6WOAPx+e3k/E3nI/VH/yHdOIhz/ZLyQdu/pwP1hGDPMalW8/ZlQQ2A64ZT+PTXKjc5lzv4CQIYvxsVq/ByWsyssGd7+kZpXcLqFmP6eW2SNJK3g/Y43NYERcgj/uH8Y+ZzJzPwSQjy4lbUY/Ye95M1Ljfj9mzEYvOKRLP+JBMCvfdFk/4yaVhEoOdj8JIxROIkp8P38tmwwDjnE/NtRxZRuncD9H2ZCJCes0vxIekqHIQle/HFD/I1cjf78qkQsOKIVDvz/VMPiloYA/enOR38jDdr9zolFefJdkPx00QcydLIA/48LeKep5bz/ItXogh7+Iv3ehB0JppmM/vw9B2pX4j7+ObApqPnxjP5M7uHEV2m2/Po2kg4pUZT/5gjSHBkp6v7b4C4o8VYK/w2f1Cx/qaD+kG1lp7f2Qv3IMhAdUU1y/mZ6+wX6+eL+dfI0x0XRQv442LP1Oans/lXZXzRiGcT9RUh83guZQP3x/qm3Gp3U/5uY8LUC0bT9nLHuUVuF4v1xWKxpi5lI/c/payWdhYj/x9BTjWaB9v9FkHWc01n0/EJdPL+gjhz8BeTcBMnaEv14Lz42axXW/BzghxACid7+nsvpEq2Egv6B7XLWRCXO/0DNMi/n2bT89gckFPRFwvy2GB+ku/HK/ZJTrb+LtdL/P5AnXxI96v6cH8gvIPIU/NKEE5xQZOz+rVIp747J0P+ZDSuwJYYs/seTkjPiHkj/mjn08dV2NP7jaOMu1s5s/T7+ZecEflD+fwJtPoWWCP63nrFuUXZQ/oNv8rzl3t7+gqYmSEC/Mv0L3Z5xmyui/7O99Yc30/r8PvL8xuaISwKtxIkDmTh7APDaTeD1sJMBPAVBLinchwPB8kpIWlf+/FKJP4RXNBkAR0xACIdsIQHnBMnxtSglAS5kBZYn3DUDQD9Ofy/wLQEKGJ0TicBFA/S20IKmcEkDmgbjORqQPQP6U06BNog1AL5VUUAgDCkC1TJPV9JYLQGp1YjecrgdAUe09EhLUBEDLbpNrGVIEQMViHOrHsgBAFTDMgGQx9j/wXGJaFSrnP4Pu7eebBNI/HYHxhmVdxj9oSqZ18cK3v3O8ubvP4OG/9hlw0F0b778o4YRbT97zv1Kznnooi/G/mS3Z8cg067+jpQczJyD1v1dfGkaoXPi/hmXv4qGb0r+IknOU++DAv5scuwk1kN6/WwopJeIf4L8piDoveLTjv6mT/WkXoN2/XwZA7+cGwr+bn7jYOnHDv7xlE6OaXN+/GKH+PMOv2r+UApSvK827v/HjQzdc9KQ/mZsEPR/nt78/5KF7tH7gv1XxXrykIem/vyTy6oQpvb9aSLbDRp3vvy792LUeUOq/23zz7FKF0z/Ist5pIjryP9rITb0cM/s/8X/HLN+18j+cITFjdQDoP7G/1qkC3uM/R+j1lyYN8j8thKtUAlTzP5aH8/28mes/DB3Nuqt76T/nUJ1vOcjtP7vOtwg3wfE/+s1ZsBfn9D/CVyhzH/DbP68Cp8eBIvi/dGZ+vtP+A8AOZKafMagFwFnpRg30F/6/VyVdBQEIA8A7des+XDsDwNAWmOicWAjANrIJ2c2dCsDOnkJj/aoIwPRikMFerQfAxLR7hj9aCsBV6zUu0GcNwA71OlzZnw3A/fvbVSBvDcCo/omKBM4UwB4//9yuCBTAW6bh9WoJFMCPwJrHTtkRwDgN/dsJkxPAMEgryDhqF8CxdEwp/KASwHK0acqAbBDAXK/9lekRD8Ba9llbrvsKwM+Dx+tc1wnAQspKWFS5E8AlVJN8hvEUwGSirPuQAxXA3uLrCxeOB8DAVywMaSAJwJyKzPEE8w/AH/Ml6t4ACMCnMctmt3cJwMP/J5HPJgrA1PB+tf2cFMC2Enk5w3UXwJdZH10o/xfAU1wYBy+8FMD81jjy7qUVwGaPcsb7KxnAx/w+uK+PH8BqNcBItsEdwE3TPgoPgBvAMbYHB1PEIMB2mshuFBUjwJxQgOs4jCTA57Jw2iwiJMAkt2I3mUEowPepJrIU+SfAyK5vQxIIKcDbfKQ9TTErwOah4I86FCvAsBvoSjIVLMApzHvCDTUswIIzrnTSxSzAgb0xAAnQL8DTljygM+EuwClgMftvxS3AZMODSagLLsAvRLZo9wgwwAR5HGcNhi7AvwHeJhHvLsD7Ur3DV2AvwDO2C9uW7y/Ab7o8CPHeLsD/EwWa+v0uwKSZn4s2/C/Af5cBCGhkMMCrLuyrWbAwwNLGITYXlTDAGvADubc/MsDXLrJ8kxExwMSF9AwBJzLARjGH1sl2MsCd6SmZZcYywF875MmnQzTAsFG+ddikNMCytZ95F4Q0wApCF+u37jTAsGZeSHQzNsDrbSjYsqw3wGFjod9rLjrAiobr3K+0OsCODZCL7Wk7wGjt+T83cjrAV2gi0h08OsBSLwuH3946wLns2L6ibDrAhl3ucY0DOsCa+L/Owsc6wC1SuJcCZTvAWqeGY/RLPMACZIfynoo8wBnspurZCj3ASxI/rlsmPsBrSMbjxXg+wGmkgAveUD7AQ/i/LjmNPsC8Z/xv5I09wBxnvZkf9T3Am1yZ0CcSPsBtL0tOms89wL4CFL0ehj7AjUWzeiuLP8DwbrGvJLs/wLLz/0Udij/A0VRhuOXaPsD+3K5gbG8/wOvQClcxtj/A9qKEiTLRP8DqOM31PQRAwC13Pi/KFUDAjMg/SW8sQMDfX4G5v2xAwDAtzBOy4EDAQ7c0/bsiQcCfneItZTdBwDou8dHvbkHAsxXSjrHvQcCJ4T6c2C5CwAoFTrb2xELAtMb5RPBJQ8DVIBV14X5DwNdUbQzeyEPAH+n/wR3tQ8CX+8UmtGJEwKiMxT6Y0UTAK5L9Hw1XRcAW638yQE1FwO787WyQW0XAB8ViH3JrRcCLzv8tiphFwNr8Fa/iTEXAGAC3/wlBRsA9F6ATvzhHwAsNz8tMhEfA7zgBz3bYR8Df8ohvlbtHwE1WKN1EpkfA0EHlg2bxSMCU8/NXtLVJwN1dBDNAPkrA3772VpUfTMCOv1SJjqNMwIrsXPyBc03AAnvxxwD2TcC+Qn99mvVNwPC7y3kvDk/A/afAiYzBT8B06YvJlEdQwEddwjN0TlDAS14brCxtUMCCgANXHqVQwH4VIABi4lDA//Qc56PDUcAQ1RKsn1tSwIQjFcsTNlPAMHXURJHEU8Cf8LwagT9UwBQ1WJ3ujFTAlffr9Dv7VMAm/Wgs8ElVwOUriwzl6VXAPVnoac4xVsBozBPTdplWwJ1cgL/pI1fAdZPaY3qZV8DxVGnI/RNYwDUWrQuqTljAkRGH4G+eWMD5Ifw52z1ZwIlD5CHwh1nA+TGBx57qWcAoVrFO2WpawKgwiqLpo1rAvfwlpZzYWsA/Pv+ZFUVbwJTBDkYodVvACXvbOWTTW8CfqZvdYiVcwIkkLeRXSFzAeFFXZAxsXMCq1JVKhdRcwKf6e/nGF13AmNUScxMsXcCo7QYhj0RdwIf1wvKRnV3AhO8+QO3rXcCLW15OkCJewCLhCHTERl7AUeLAk7dtXsDyE2y+E3hewNhhBdlim17AJ1jlbNKrXsDdYNLfoa1ewIZeZIOsyV7AqGmpV5P4XsBGekWuTkJfwEnyJIkgU1/AAoU5G2JRX8DCz5r3BnNfwOWP49t9nl/AsUjeCgC7X8DE/KWqp71fwHu+QXtg2F/AFzi/YPAXYMD3IxqrBjRgwB9Ih04KOmDAEfa5RElKYMA0AUWQqkhgwPQwtEGoTWDAJvaUlxhkYMDFYkcBiG5gwNFay5OocmDAnuy9tFN7YMA7co2Q7opgwDNwtR3SimDADIkuwtmSYMAo33t4RaRgwNvpr2yDq2DALLTCLGayYMC1e6KRgbJgwO0vhg6is2DA4+nrQAe6YMAinKoMW7xgwKaQAfMFv2DAAnYhBq7FYMD24b0LbNJgwIL4FfD61GDAror5RnTiYMBViK7OWuVgwMEK4zekCWHAT7sU5gsIYcAccnmPdQxhwNJ4kSBDEGHAnDqcMYIsYcCI1jJQYzJhwMszYMBAPmHAJcW3ffVGYcC/LC+27F1hwIkZfSKFYGHAd702IeR2YcCctUEBQoRhwKyAP868jGHAKs11GTKRYcCS2SHgK6NhwEbBznWBsGHAXpWAM2TGYcDjikFlydRhwMUc+pDS1mHAj+Axx5beYcBFUqX0v+ZhwG6kjDYK8mHAT75rbEj6YcBuUyd1PfFhwOIEWryB7GHAoxpNMi7dYcB/bUecrc9hwHn6l1i2ymHA7+dsSo7JYcDwgvQ8Xs9hwGw+ovX632HA/pc0dZPpYcDDLbgaPO1hwBspCYYq6WHAU2Hq0TXhYcCDY43BVedhwIqN98Bu6GHAmS+WW/HoYcD6tsRTW+RhwDaM9eTd02HAPzrxEkjFYcBiVpulgr5hwPdMvJRly2HAjXk33qjTYcAqFVhwYdRhwEvrg04C0GHAECgp8mfFYcC4LEM/NcdhwI+p80v6xWHASGhNhC3OYcBb4t7XltZhwLaOkV0p2GHARNEPX33ZYcAL38uCRdthwHCKnXIn4GHAk8w1CajjYcCSC9JGZeVhwEJn3Q4Z5WHAhZMPFQ7oYcDk55S5uuthwPwXqllU7GHAgiNlhXXrYcDp7fa6j+thwKFfCk3N62HAe5CXrSzpYcDdJ93C3d1hwH2TEd/p0mHA5nAuGmvMYcC3+8kWoc1hwCS7+9wM2WHAG1r2n8bWYcAskVK9us5hwD7KhJ/7z2HADeR0cm7PYcCW7/g6ys9hwMOKQydM1WHAEdGN3nvZYcD4TQ2ahtxhwJ7HKVNP3WHA73SIY4foYcDEX7hnE+hhwP8WehsU5GHAf+N1ceneYcCFhJlOXuhhwB19hvQvL/g/fOvrQFPy+z9akQYjcYnfv2bH0kyVWuU/EGQrhN8loT87sF8qESDjP+3+W2ZrAOI/qGoHzPsjsz9CWru1anPXv+Ew4kz1IN+/UxlxS4VW0z9BN37UMHnQvwOFwKUlrue/pIIzNwa86L8q8+xX4d/Yv11PgZrVK+C/C6yyKnWe3r+hfqlCd4Tev4tMlnNrTe+/gmenWk2UxD9ZJrUsVoXfP6T2q0490Nk/NxjNlL1Sqz/WVd7lrWG7P4IpnljCV4I/HmwniwF9gD9jOy2ppUuCP+7z56Fj8KO/e6a8KzKyq7+mqv2a8G2tv7+eb1N7TKG/BmWOLUyKpb+vprTxLGOov2Zet/bK+Z2/zmO0+nGNjL+oqVz1Ptikvz38gk1rDKi/K+X44G0Onr+GPHNMNlyRvwJv3O/sU6K/fEy+K+Nfmr8azUvXwRyhvz4qPwY2z5+/KJ9zjHEimL9wRPC0tAqevz+yFQVw2KS/b3EApg1jir94HkUlV+qLv1IDAKc83I+/I7nE+7lD+79R0+8o6T/7v/QKrWRBFPu//SHa/z0M+78=\"},\"shape\":[529],\"dtype\":\"float64\",\"order\":\"little\"}]]}}},\"view\":{\"type\":\"object\",\"name\":\"CDSView\",\"id\":\"p2001\",\"attributes\":{\"filter\":{\"type\":\"object\",\"name\":\"AllIndices\",\"id\":\"p2002\"}}},\"glyph\":{\"type\":\"object\",\"name\":\"Line\",\"id\":\"p1997\",\"attributes\":{\"x\":{\"type\":\"field\",\"field\":\"x\"},\"y\":{\"type\":\"field\",\"field\":\"y\"},\"line_color\":\"blue\",\"line_width\":2}},\"nonselection_glyph\":{\"type\":\"object\",\"name\":\"Line\",\"id\":\"p1998\",\"attributes\":{\"x\":{\"type\":\"field\",\"field\":\"x\"},\"y\":{\"type\":\"field\",\"field\":\"y\"},\"line_color\":\"blue\",\"line_alpha\":0.1,\"line_width\":2}},\"muted_glyph\":{\"type\":\"object\",\"name\":\"Line\",\"id\":\"p1999\",\"attributes\":{\"x\":{\"type\":\"field\",\"field\":\"x\"},\"y\":{\"type\":\"field\",\"field\":\"y\"},\"line_color\":\"blue\",\"line_alpha\":0.2,\"line_width\":2}}}}],\"toolbar\":{\"type\":\"object\",\"name\":\"Toolbar\",\"id\":\"p1900\",\"attributes\":{\"tools\":[{\"type\":\"object\",\"name\":\"PanTool\",\"id\":\"p1925\"},{\"type\":\"object\",\"name\":\"WheelZoomTool\",\"id\":\"p1926\"},{\"type\":\"object\",\"name\":\"BoxZoomTool\",\"id\":\"p1927\",\"attributes\":{\"overlay\":{\"type\":\"object\",\"name\":\"BoxAnnotation\",\"id\":\"p1928\",\"attributes\":{\"syncable\":false,\"level\":\"overlay\",\"visible\":false,\"left_units\":\"canvas\",\"right_units\":\"canvas\",\"bottom_units\":\"canvas\",\"top_units\":\"canvas\",\"line_color\":\"black\",\"line_alpha\":1.0,\"line_width\":2,\"line_dash\":[4,4],\"fill_color\":\"lightgrey\",\"fill_alpha\":0.5}}}},{\"type\":\"object\",\"name\":\"SaveTool\",\"id\":\"p1929\"},{\"type\":\"object\",\"name\":\"ResetTool\",\"id\":\"p1930\"},{\"type\":\"object\",\"name\":\"HelpTool\",\"id\":\"p1931\"},{\"type\":\"object\",\"name\":\"HoverTool\",\"id\":\"p1933\",\"attributes\":{\"renderers\":\"auto\",\"tooltips\":[[\"X\",\"@x\"],[\"Y\",\"@y\"]]}}]}},\"left\":[{\"type\":\"object\",\"name\":\"LinearAxis\",\"id\":\"p1918\",\"attributes\":{\"ticker\":{\"type\":\"object\",\"name\":\"BasicTicker\",\"id\":\"p1921\",\"attributes\":{\"mantissas\":[1,2,5]}},\"formatter\":{\"type\":\"object\",\"name\":\"BasicTickFormatter\",\"id\":\"p1920\"},\"axis_label\":\"[deg]\",\"major_label_policy\":{\"type\":\"object\",\"name\":\"AllLabels\",\"id\":\"p1919\"}}}],\"below\":[{\"type\":\"object\",\"name\":\"LinearAxis\",\"id\":\"p1911\",\"attributes\":{\"ticker\":{\"type\":\"object\",\"name\":\"BasicTicker\",\"id\":\"p1914\",\"attributes\":{\"mantissas\":[1,2,5]}},\"formatter\":{\"type\":\"object\",\"name\":\"BasicTickFormatter\",\"id\":\"p1913\"},\"axis_label\":\"Time (s)\",\"major_label_policy\":{\"type\":\"object\",\"name\":\"AllLabels\",\"id\":\"p1912\"}}}],\"center\":[{\"type\":\"object\",\"name\":\"Grid\",\"id\":\"p1917\",\"attributes\":{\"axis\":{\"id\":\"p1911\"}}},{\"type\":\"object\",\"name\":\"Grid\",\"id\":\"p1924\",\"attributes\":{\"dimension\":1,\"axis\":{\"id\":\"p1918\"}}},{\"type\":\"object\",\"name\":\"Legend\",\"id\":\"p1964\",\"attributes\":{\"location\":\"top_left\",\"items\":[{\"type\":\"object\",\"name\":\"LegendItem\",\"id\":\"p1965\",\"attributes\":{\"label\":{\"type\":\"value\",\"value\":\"Roll\"},\"renderers\":[{\"id\":\"p1948\"}]}},{\"type\":\"object\",\"name\":\"LegendItem\",\"id\":\"p1993\",\"attributes\":{\"label\":{\"type\":\"value\",\"value\":\"Pitch\"},\"renderers\":[{\"id\":\"p1972\"}]}},{\"type\":\"object\",\"name\":\"LegendItem\",\"id\":\"p2026\",\"attributes\":{\"label\":{\"type\":\"value\",\"value\":\"Yaw\"},\"renderers\":[{\"id\":\"p2000\"}]}}]}}]}}]}}]}};\n",
       "  const render_items = [{\"docid\":\"c8ee81d1-0b50-46e4-9b1a-93b12200653b\",\"roots\":{\"p2027\":\"f0c4fe68-86bc-452b-8299-fca9752121d2\"},\"root_ids\":[\"p2027\"]}];\n",
       "  root.Bokeh.embed.embed_items_notebook(docs_json, render_items);\n",
       "  }\n",
       "  if (root.Bokeh !== undefined) {\n",
       "    embed_document(root);\n",
       "  } else {\n",
       "    let attempts = 0;\n",
       "    const timer = setInterval(function(root) {\n",
       "      if (root.Bokeh !== undefined) {\n",
       "        clearInterval(timer);\n",
       "        embed_document(root);\n",
       "      } else {\n",
       "        attempts++;\n",
       "        if (attempts > 100) {\n",
       "          clearInterval(timer);\n",
       "          console.log(\"Bokeh: ERROR: Unable to run BokehJS code because BokehJS library is missing\");\n",
       "        }\n",
       "      }\n",
       "    }, 10, root)\n",
       "  }\n",
       "})(window);"
      ],
      "application/vnd.bokehjs_exec.v0+json": ""
     },
     "metadata": {
      "application/vnd.bokehjs_exec.v0+json": {
       "id": "p2027"
      }
     },
     "output_type": "display_data"
    }
   ],
   "source": [
    "# Plot VSLAM pose estimation result\n",
    "plot_pose(pose)"
   ]
  },
  {
   "cell_type": "code",
   "execution_count": 16,
   "metadata": {
    "tags": []
   },
   "outputs": [
    {
     "data": {
      "text/html": [
       "\n",
       "  <div id=\"191d8671-83ac-4735-8165-21e9b93538df\" data-root-id=\"p2393\" style=\"display: contents;\"></div>\n"
      ]
     },
     "metadata": {},
     "output_type": "display_data"
    },
    {
     "data": {
      "application/javascript": [
       "(function(root) {\n",
       "  function embed_document(root) {\n",
       "  const docs_json = {\"ed5a8fed-5a2c-4960-a06b-b5dd59ae60c4\":{\"version\":\"3.0.3\",\"title\":\"Bokeh Application\",\"defs\":[],\"roots\":[{\"type\":\"object\",\"name\":\"Figure\",\"id\":\"p2393\",\"attributes\":{\"width\":400,\"height\":400,\"x_range\":{\"type\":\"object\",\"name\":\"DataRange1d\",\"id\":\"p2394\"},\"y_range\":{\"type\":\"object\",\"name\":\"DataRange1d\",\"id\":\"p2395\"},\"x_scale\":{\"type\":\"object\",\"name\":\"LinearScale\",\"id\":\"p2407\"},\"y_scale\":{\"type\":\"object\",\"name\":\"LinearScale\",\"id\":\"p2409\"},\"title\":{\"type\":\"object\",\"name\":\"Title\",\"id\":\"p2396\",\"attributes\":{\"text\":\"XY Map\"}},\"renderers\":[{\"type\":\"object\",\"name\":\"GlyphRenderer\",\"id\":\"p2446\",\"attributes\":{\"data_source\":{\"type\":\"object\",\"name\":\"ColumnDataSource\",\"id\":\"p2440\",\"attributes\":{\"selected\":{\"type\":\"object\",\"name\":\"Selection\",\"id\":\"p2442\",\"attributes\":{\"indices\":[],\"line_indices\":[]}},\"selection_policy\":{\"type\":\"object\",\"name\":\"UnionRenderers\",\"id\":\"p2441\"},\"data\":{\"type\":\"map\",\"entries\":[[\"x\",{\"type\":\"ndarray\",\"array\":{\"type\":\"bytes\",\"data\":\"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\"},\"shape\":[529],\"dtype\":\"float64\",\"order\":\"little\"}],[\"y\",{\"type\":\"ndarray\",\"array\":{\"type\":\"bytes\",\"data\":\"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\"},\"shape\":[529],\"dtype\":\"float64\",\"order\":\"little\"}]]}}},\"view\":{\"type\":\"object\",\"name\":\"CDSView\",\"id\":\"p2447\",\"attributes\":{\"filter\":{\"type\":\"object\",\"name\":\"AllIndices\",\"id\":\"p2448\"}}},\"glyph\":{\"type\":\"object\",\"name\":\"Circle\",\"id\":\"p2443\",\"attributes\":{\"x\":{\"type\":\"field\",\"field\":\"x\"},\"y\":{\"type\":\"field\",\"field\":\"y\"},\"line_color\":{\"type\":\"value\",\"value\":\"#1f77b4\"},\"fill_color\":{\"type\":\"value\",\"value\":\"#1f77b4\"}}},\"nonselection_glyph\":{\"type\":\"object\",\"name\":\"Circle\",\"id\":\"p2444\",\"attributes\":{\"x\":{\"type\":\"field\",\"field\":\"x\"},\"y\":{\"type\":\"field\",\"field\":\"y\"},\"line_color\":{\"type\":\"value\",\"value\":\"#1f77b4\"},\"line_alpha\":{\"type\":\"value\",\"value\":0.1},\"fill_color\":{\"type\":\"value\",\"value\":\"#1f77b4\"},\"fill_alpha\":{\"type\":\"value\",\"value\":0.1},\"hatch_alpha\":{\"type\":\"value\",\"value\":0.1}}},\"muted_glyph\":{\"type\":\"object\",\"name\":\"Circle\",\"id\":\"p2445\",\"attributes\":{\"x\":{\"type\":\"field\",\"field\":\"x\"},\"y\":{\"type\":\"field\",\"field\":\"y\"},\"line_color\":{\"type\":\"value\",\"value\":\"#1f77b4\"},\"line_alpha\":{\"type\":\"value\",\"value\":0.2},\"fill_color\":{\"type\":\"value\",\"value\":\"#1f77b4\"},\"fill_alpha\":{\"type\":\"value\",\"value\":0.2},\"hatch_alpha\":{\"type\":\"value\",\"value\":0.2}}}}}],\"toolbar\":{\"type\":\"object\",\"name\":\"Toolbar\",\"id\":\"p2400\",\"attributes\":{\"tools\":[{\"type\":\"object\",\"name\":\"PanTool\",\"id\":\"p2425\"},{\"type\":\"object\",\"name\":\"WheelZoomTool\",\"id\":\"p2426\"},{\"type\":\"object\",\"name\":\"BoxZoomTool\",\"id\":\"p2427\",\"attributes\":{\"overlay\":{\"type\":\"object\",\"name\":\"BoxAnnotation\",\"id\":\"p2428\",\"attributes\":{\"syncable\":false,\"level\":\"overlay\",\"visible\":false,\"left_units\":\"canvas\",\"right_units\":\"canvas\",\"bottom_units\":\"canvas\",\"top_units\":\"canvas\",\"line_color\":\"black\",\"line_alpha\":1.0,\"line_width\":2,\"line_dash\":[4,4],\"fill_color\":\"lightgrey\",\"fill_alpha\":0.5}}}},{\"type\":\"object\",\"name\":\"SaveTool\",\"id\":\"p2429\"},{\"type\":\"object\",\"name\":\"ResetTool\",\"id\":\"p2430\"},{\"type\":\"object\",\"name\":\"HelpTool\",\"id\":\"p2431\"}]}},\"left\":[{\"type\":\"object\",\"name\":\"LinearAxis\",\"id\":\"p2418\",\"attributes\":{\"ticker\":{\"type\":\"object\",\"name\":\"BasicTicker\",\"id\":\"p2421\",\"attributes\":{\"mantissas\":[1,2,5]}},\"formatter\":{\"type\":\"object\",\"name\":\"BasicTickFormatter\",\"id\":\"p2420\"},\"axis_label\":\"Y [m]\",\"major_label_policy\":{\"type\":\"object\",\"name\":\"AllLabels\",\"id\":\"p2419\"}}}],\"below\":[{\"type\":\"object\",\"name\":\"LinearAxis\",\"id\":\"p2411\",\"attributes\":{\"ticker\":{\"type\":\"object\",\"name\":\"BasicTicker\",\"id\":\"p2414\",\"attributes\":{\"mantissas\":[1,2,5]}},\"formatter\":{\"type\":\"object\",\"name\":\"BasicTickFormatter\",\"id\":\"p2413\"},\"axis_label\":\"X [m]\",\"major_label_policy\":{\"type\":\"object\",\"name\":\"AllLabels\",\"id\":\"p2412\"}}}],\"center\":[{\"type\":\"object\",\"name\":\"Grid\",\"id\":\"p2417\",\"attributes\":{\"axis\":{\"id\":\"p2411\"}}},{\"type\":\"object\",\"name\":\"Grid\",\"id\":\"p2424\",\"attributes\":{\"dimension\":1,\"axis\":{\"id\":\"p2418\"}}}]}}]}};\n",
       "  const render_items = [{\"docid\":\"ed5a8fed-5a2c-4960-a06b-b5dd59ae60c4\",\"roots\":{\"p2393\":\"191d8671-83ac-4735-8165-21e9b93538df\"},\"root_ids\":[\"p2393\"]}];\n",
       "  root.Bokeh.embed.embed_items_notebook(docs_json, render_items);\n",
       "  }\n",
       "  if (root.Bokeh !== undefined) {\n",
       "    embed_document(root);\n",
       "  } else {\n",
       "    let attempts = 0;\n",
       "    const timer = setInterval(function(root) {\n",
       "      if (root.Bokeh !== undefined) {\n",
       "        clearInterval(timer);\n",
       "        embed_document(root);\n",
       "      } else {\n",
       "        attempts++;\n",
       "        if (attempts > 100) {\n",
       "          clearInterval(timer);\n",
       "          console.log(\"Bokeh: ERROR: Unable to run BokehJS code because BokehJS library is missing\");\n",
       "        }\n",
       "      }\n",
       "    }, 10, root)\n",
       "  }\n",
       "})(window);"
      ],
      "application/vnd.bokehjs_exec.v0+json": ""
     },
     "metadata": {
      "application/vnd.bokehjs_exec.v0+json": {
       "id": "p2393"
      }
     },
     "output_type": "display_data"
    }
   ],
   "source": [
    "# Plot X-Y map\n",
    "plot_xy(pose)"
   ]
  },
  {
   "cell_type": "markdown",
   "metadata": {
    "jp-MarkdownHeadingCollapsed": true,
    "tags": []
   },
   "source": [
    "### Sellen Warehouse dataset"
   ]
  },
  {
   "cell_type": "code",
   "execution_count": null,
   "metadata": {
    "tags": []
   },
   "outputs": [],
   "source": [
    "# Load Sellen Warehouse Dataset\n",
    "dp = VIDataPipe(\"datasets/sellen-20230126081954.tar\")"
   ]
  },
  {
   "cell_type": "code",
   "execution_count": null,
   "metadata": {},
   "outputs": [],
   "source": [
    "# Display video\n",
    "display_video2(dp, (400,300))"
   ]
  },
  {
   "cell_type": "code",
   "execution_count": null,
   "metadata": {
    "tags": []
   },
   "outputs": [],
   "source": [
    "# Initialize ORB-SLAM3 System\n",
    "slam = orb_slam3.System(ORB_VOC, ORB_CONF, orb_slam3.Sensor.STEREO, False, 0)"
   ]
  },
  {
   "cell_type": "code",
   "execution_count": null,
   "metadata": {
    "tags": []
   },
   "outputs": [],
   "source": [
    "# Fuse stereo images and run tracking\n",
    "pose = np.array([x for x in track_stereo2(slam, dp)])"
   ]
  },
  {
   "cell_type": "code",
   "execution_count": null,
   "metadata": {
    "tags": []
   },
   "outputs": [],
   "source": [
    "# Plot VSLAM pose estimation result\n",
    "plot_pose(pose)"
   ]
  },
  {
   "cell_type": "code",
   "execution_count": null,
   "metadata": {
    "tags": []
   },
   "outputs": [],
   "source": [
    "# Plot X-Y map\n",
    "plot_xy(pose)"
   ]
  },
  {
   "cell_type": "markdown",
   "metadata": {
    "tags": []
   },
   "source": [
    "### Dataset sim-circle"
   ]
  },
  {
   "cell_type": "code",
   "execution_count": null,
   "metadata": {
    "tags": []
   },
   "outputs": [],
   "source": [
    "# Load dataset\n",
    "dp = VIDataPipe(\"datasets/sim_circle.tar\")"
   ]
  },
  {
   "cell_type": "code",
   "execution_count": null,
   "metadata": {
    "tags": []
   },
   "outputs": [],
   "source": [
    "# Make a video from loaded dataset\n",
    "display_video2(dp, (400, 300))"
   ]
  },
  {
   "cell_type": "code",
   "execution_count": null,
   "metadata": {
    "tags": []
   },
   "outputs": [],
   "source": [
    "# Initialize ORB-SLAM3 System\n",
    "slam = orb_slam3.System(ORB_VOC, ORB_CONF, orb_slam3.Sensor.STEREO, False, 0)"
   ]
  },
  {
   "cell_type": "code",
   "execution_count": null,
   "metadata": {
    "tags": []
   },
   "outputs": [],
   "source": [
    "# Fuse stereo images and run tracking\n",
    "pose = np.array([x for x in track_stereo(slam, dp)])"
   ]
  },
  {
   "cell_type": "code",
   "execution_count": null,
   "metadata": {
    "tags": []
   },
   "outputs": [],
   "source": [
    "# Plot VSLAM pose estimation result\n",
    "plot_pose(pose)"
   ]
  },
  {
   "cell_type": "code",
   "execution_count": null,
   "metadata": {
    "tags": []
   },
   "outputs": [],
   "source": [
    "# Plot X-Y map\n",
    "plot_xy(pose)"
   ]
  }
 ],
 "metadata": {
  "kernelspec": {
   "display_name": "Python 3 (ipykernel)",
   "language": "python",
   "name": "python3"
  },
  "language_info": {
   "codemirror_mode": {
    "name": "ipython",
    "version": 3
   },
   "file_extension": ".py",
   "mimetype": "text/x-python",
   "name": "python",
   "nbconvert_exporter": "python",
   "pygments_lexer": "ipython3",
   "version": "3.8.10"
  },
  "vscode": {
   "interpreter": {
    "hash": "fadc9a42ebbffca07f802f2fdb51b0497fbd48d515bf3015c6cedd1dd0ccb409"
   }
  }
 },
 "nbformat": 4,
 "nbformat_minor": 4
}
