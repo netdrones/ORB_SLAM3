{
 "cells": [
  {
   "cell_type": "markdown",
   "id": "1f754546-1152-4830-85c5-9e2711fbad68",
   "metadata": {},
   "source": [
    "# ORB-SLAM3 Camera and IMU calibration Tutorial"
   ]
  },
  {
   "cell_type": "code",
   "execution_count": 1,
   "id": "4ee110b3-42bd-4770-b4e8-7da9e9ab77aa",
   "metadata": {},
   "outputs": [],
   "source": [
    "import cv2\n",
    "import numpy as np\n",
    "import tempfile\n",
    "import shutil\n",
    "from tqdm.notebook import tqdm\n",
    "from pathlib import Path"
   ]
  },
  {
   "cell_type": "markdown",
   "id": "14ea0770-4fcb-4f7a-aee3-93c9323be9e6",
   "metadata": {},
   "source": [
    "## Synchronize stereo camera frames"
   ]
  },
  {
   "cell_type": "code",
   "execution_count": 10,
   "id": "b95551e6-faa9-42bb-a875-f85a64d2087b",
   "metadata": {
    "tags": []
   },
   "outputs": [
    {
     "data": {
      "application/vnd.jupyter.widget-view+json": {
       "model_id": "9c1dc622088a43b0b02fffcc28261d9e",
       "version_major": 2,
       "version_minor": 0
      },
      "text/plain": [
       "  0%|          | 0/241 [00:00<?, ?it/s]"
      ]
     },
     "metadata": {},
     "output_type": "display_data"
    }
   ],
   "source": [
    "SYNC_TIME_DIFF_MAX = 100 # msec\n",
    "\n",
    "# Read original dataset\n",
    "ds_dir = Path(\"datasets/calibration\")\n",
    "cam0_dir = ds_dir / \"cam0\"\n",
    "cam1_dir = ds_dir / \"cam1\"\n",
    "\n",
    "cam0_ts = np.sort([int(x.name[0:-4]) for x in cam0_dir.glob(\"*.png\")])\n",
    "cam1_ts = np.sort([int(x.name[0:-4]) for x in cam1_dir.glob(\"*.png\")])\n",
    "\n",
    "# Output directory\n",
    "out_dir = Path(\"datasets/calibration-out\")\n",
    "if out_dir.exists():\n",
    "    shutil.rmtree(out_dir)\n",
    "\n",
    "with tempfile.TemporaryDirectory() as tmp:\n",
    "    tmp = Path(tmp)\n",
    "    (tmp / \"cam0\").mkdir()\n",
    "    (tmp / \"cam1\").mkdir()\n",
    "    \n",
    "    for t_l in tqdm(cam0_ts):\n",
    "        t_r = cam1_ts[np.abs(cam1_ts - t_l).argmin()]\n",
    "        if np.abs(t_l - t_r) < SYNC_TIME_DIFF_MAX * 1e6:\n",
    "            # Convert to grayscale\n",
    "            name = \"%d.png\" % t_l\n",
    "            gray_l = cv2.cvtColor(cv2.imread(str(cam0_dir / name)), cv2.COLOR_BGR2GRAY)\n",
    "            gray_r = cv2.cvtColor(cv2.imread(str(cam1_dir / (\"%d.png\" % t_r))), cv2.COLOR_BGR2GRAY)\n",
    "            \n",
    "            # Save\n",
    "            cv2.imwrite(str(tmp / \"cam0\" / name), gray_l)\n",
    "            cv2.imwrite(str(tmp / \"cam1\" / name), gray_r)\n",
    "        else:\n",
    "            print(\"Timestamp diff is too large:\", (np.abs(t_l - t_r) / 1e9))\n",
    "    \n",
    "    shutil.copytree(tmp, out_dir)"
   ]
  },
  {
   "cell_type": "markdown",
   "id": "4952139f-dbcc-4cd0-b8ff-1657841772cd",
   "metadata": {},
   "source": [
    "```\n",
    "cd /path/to/calibration-dataset\n",
    "docker pull ghcr.io/netdrones/kalibr:latest\n",
    "docker run -it --rm -e DISPLAY \\\n",
    "    -v \"/tmp/.X11-unix:/tmp/.X11-unix:ro\" \\\n",
    "    -v `pwd`:/data ghcr.io/netdrones/kalibr\n",
    "```\n",
    "\n",
    "```\n",
    "source devel/setup.bash\n",
    "rosrun kalibr kalibr_bagcreater --folder /data --output-bag /data/cam.bag\n",
    "rosrun kalibr kalibr_calibrate_cameras --bag /data/cam.bag --topics /cam0/image_raw /cam1/image_raw --models pinhole-radtan pinhole-radtan --target /data/aprilgrid_80x80cm.yaml \n",
    "```"
   ]
  },
  {
   "cell_type": "code",
   "execution_count": null,
   "id": "7e9c3d0d-09a7-4151-9a2b-6f37292e2c70",
   "metadata": {},
   "outputs": [],
   "source": []
  }
 ],
 "metadata": {
  "kernelspec": {
   "display_name": "Python 3 (ipykernel)",
   "language": "python",
   "name": "python3"
  },
  "language_info": {
   "codemirror_mode": {
    "name": "ipython",
    "version": 3
   },
   "file_extension": ".py",
   "mimetype": "text/x-python",
   "name": "python",
   "nbconvert_exporter": "python",
   "pygments_lexer": "ipython3",
   "version": "3.8.10"
  }
 },
 "nbformat": 4,
 "nbformat_minor": 5
}
