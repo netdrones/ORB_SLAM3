{
 "cells": [
  {
   "cell_type": "markdown",
   "metadata": {},
   "source": [
    "# ORB-SLAM3 Stereo Inertial"
   ]
  },
  {
   "cell_type": "code",
   "execution_count": null,
   "metadata": {},
   "outputs": [],
   "source": [
    "import cv2\n",
    "import numpy as np\n",
    "from pathlib import Path"
   ]
  },
  {
   "cell_type": "code",
   "execution_count": 44,
   "metadata": {},
   "outputs": [
    {
     "name": "stdout",
     "output_type": "stream",
     "text": [
      "59847971654000 (600, 800, 3) (600, 800, 3)\n"
     ]
    },
    {
     "ename": "TypeError",
     "evalue": "exceptions must derive from BaseException",
     "output_type": "error",
     "traceback": [
      "\u001b[0;31m---------------------------------------------------------------------------\u001b[0m",
      "\u001b[0;31mTypeError\u001b[0m                                 Traceback (most recent call last)",
      "\u001b[1;32m/Users/rakuto/workspace/netdrone/ORB_SLAM3/python/notebooks/stereo_inertial.ipynb Cell 3\u001b[0m in \u001b[0;36m<module>\u001b[0;34m\u001b[0m\n\u001b[1;32m     <a href='vscode-notebook-cell:/Users/rakuto/workspace/netdrone/ORB_SLAM3/python/notebooks/stereo_inertial.ipynb#W3sZmlsZQ%3D%3D?line=27'>28</a>\u001b[0m \u001b[39mfor\u001b[39;00m t, cam0, cam1 \u001b[39min\u001b[39;00m dataset:\n\u001b[1;32m     <a href='vscode-notebook-cell:/Users/rakuto/workspace/netdrone/ORB_SLAM3/python/notebooks/stereo_inertial.ipynb#W3sZmlsZQ%3D%3D?line=28'>29</a>\u001b[0m     \u001b[39mprint\u001b[39m(t, cam0\u001b[39m.\u001b[39mshape, cam1\u001b[39m.\u001b[39mshape)\n\u001b[0;32m---> <a href='vscode-notebook-cell:/Users/rakuto/workspace/netdrone/ORB_SLAM3/python/notebooks/stereo_inertial.ipynb#W3sZmlsZQ%3D%3D?line=29'>30</a>\u001b[0m     \u001b[39mraise\u001b[39;00m \u001b[39m\"\u001b[39m\u001b[39m\"\u001b[39m\n",
      "\u001b[0;31mTypeError\u001b[0m: exceptions must derive from BaseException"
     ]
    }
   ],
   "source": [
    "class Dataset:\n",
    "    def __init__(self, path: str) -> None:\n",
    "        self._root = Path(path)\n",
    "        if not self._root.exists():\n",
    "            raise \"%s does not exist\" % path\n",
    "\n",
    "        self._cam0 = self._root.joinpath('cam0', 'data')\n",
    "        self._cam1 = self._root.joinpath('cam1', 'data')\n",
    "        self._is_stereo = self._cam1.exists() and self._cam1.is_dir()\n",
    "\n",
    "        tsfile = self._root.joinpath('timestamp_cam.txt')\n",
    "        if not tsfile.exists():\n",
    "            raise \"timestamp file does not exist\"\n",
    "\n",
    "        self._timestamps = np.loadtxt(tsfile, dtype=int, delimiter=',')\n",
    "    \n",
    "    def __iter__(self):\n",
    "        for t in self._timestamps:\n",
    "            img0 = cv2.imread(str(self._cam0.joinpath('%d.png' % t)))\n",
    "            if self._is_stereo:\n",
    "                img1 = cv2.imread(str(self._cam1.joinpath('%d.png' % t)))\n",
    "                yield (t, img0, img1)\n",
    "            else:\n",
    "                yield (t, img0)\n",
    "\n",
    "dataset = Dataset(\"sellen-dataset\")\n",
    "\n",
    "for t, cam0, cam1 in dataset:\n",
    "    print(t, cam0.shape, cam1.shape)\n",
    "    raise \"\"\n"
   ]
  },
  {
   "cell_type": "markdown",
   "metadata": {},
   "source": []
  }
 ],
 "metadata": {
  "kernelspec": {
   "display_name": "Python 3",
   "language": "python",
   "name": "python3"
  },
  "language_info": {
   "codemirror_mode": {
    "name": "ipython",
    "version": 3
   },
   "file_extension": ".py",
   "mimetype": "text/x-python",
   "name": "python",
   "nbconvert_exporter": "python",
   "pygments_lexer": "ipython3",
   "version": "3.9.5"
  },
  "orig_nbformat": 4,
  "vscode": {
   "interpreter": {
    "hash": "fadc9a42ebbffca07f802f2fdb51b0497fbd48d515bf3015c6cedd1dd0ccb409"
   }
  }
 },
 "nbformat": 4,
 "nbformat_minor": 2
}
